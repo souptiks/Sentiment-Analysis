{
  "nbformat": 4,
  "nbformat_minor": 0,
  "metadata": {
    "colab": {
      "provenance": [],
      "authorship_tag": "ABX9TyPLHNkxkC+Gs6wRWJ49K1XI",
      "include_colab_link": true
    },
    "kernelspec": {
      "name": "python3",
      "display_name": "Python 3"
    },
    "language_info": {
      "name": "python"
    }
  },
  "cells": [
    {
      "cell_type": "markdown",
      "metadata": {
        "id": "view-in-github",
        "colab_type": "text"
      },
      "source": [
        "<a href=\"https://colab.research.google.com/github/souptiks/Sentiment-Analysis/blob/main/HUGGING_FACE.ipynb\" target=\"_parent\"><img src=\"https://colab.research.google.com/assets/colab-badge.svg\" alt=\"Open In Colab\"/></a>"
      ]
    },
    {
      "cell_type": "code",
      "execution_count": null,
      "metadata": {
        "colab": {
          "base_uri": "https://localhost:8080/"
        },
        "id": "hMDWGr6BAOGa",
        "outputId": "21ebcfad-5049-4bd3-c449-635bc10d5ebf"
      },
      "outputs": [
        {
          "output_type": "stream",
          "name": "stdout",
          "text": [
            "Requirement already satisfied: python-docx in /usr/local/lib/python3.10/dist-packages (1.1.0)\n",
            "Requirement already satisfied: lxml>=3.1.0 in /usr/local/lib/python3.10/dist-packages (from python-docx) (4.9.4)\n",
            "Requirement already satisfied: typing-extensions in /usr/local/lib/python3.10/dist-packages (from python-docx) (4.9.0)\n"
          ]
        }
      ],
      "source": [
        "pip install python-docx"
      ]
    },
    {
      "cell_type": "code",
      "source": [
        "from docx import Document\n",
        "\n",
        "def read_docx(file_path):\n",
        "    doc = Document(file_path)\n",
        "    text = ' '.join([paragraph.text for paragraph in doc.paragraphs])\n",
        "    return text\n",
        "\n",
        "file_path = '/content/budget_speech.docx'\n",
        "a = read_docx(file_path)\n",
        "a"
      ],
      "metadata": {
        "colab": {
          "base_uri": "https://localhost:8080/",
          "height": 192
        },
        "id": "IkdIepIWAXvA",
        "outputId": "5f7582a7-4a10-46c1-b6b3-cf8fad7fd5f5"
      },
      "execution_count": null,
      "outputs": [
        {
          "output_type": "execute_result",
          "data": {
            "text/plain": [
              "\"Interim Budget 2024-2025 Speech of Nirmala Sitharaman Minister of Finance February 1, 2024 Hon’ble Speaker,  \\tI present the Interim Budget for 2024-25.  Introduction The Indian economy has witnessed profound positive transformation in the last ten years. The people of India are looking ahead to the future with hope and optimism. With the blessings of the people, when our Government under the visionary and dynamic leadership of Hon’ble Prime Minister Shri Narendra Modi assumed office in 2014, the country was facing enormous challenges. With ‘Sabka Saath, Sabka Vikas’ as its ‘mantra’, the Government overcame those challenges in right earnest. Structural reforms were undertaken. Pro-people programmes were formulated and implemented promptly. Conditions were created for more opportunities for employment and entrepreneurship. The economy got a new vigour. The fruits of development started reaching the people at scale. The country got a new sense of purpose and hope. Naturally, the people blessed the Government with a bigger mandate.  In the second term, our Government under the leadership of Hon’ble Prime Minister doubled down on its responsibilities to build a prosperous country with comprehensive development of all people and all regions. Our Government strengthened its ‘mantra’ to ‘Sabka Saath, Sabka Vikas, and Sabka Vishwas’. Our development philosophy covered all elements of inclusivity, namely,  social inclusivity through coverage of all strata of the society, and  geographical inclusivity through development of all regions of the country.   With the ‘whole of nation’ approach of ‘Sabka Prayas’, the country overcame the challenge of a once-in-a-century pandemic, took long strides towards ‘Atmanirbhar Bharat’, committed to ‘Panch Pran’, and laid solid foundations for the ‘Amrit Kaal’. As a result, our young country has high aspirations, pride in its present, and hope and confidence for a bright future. We expect that our Government, based on its stupendous work, will be blessed again by the people with a resounding mandate. Inclusive Development and Growth  Our humane and inclusive approach to development is a marked and deliberate departure from the earlier approach of ‘provisioning up-to-village level’. Development programmes, in the last ten years, have targeted each and every household and individual, through ‘housing for all’, ‘har ghar jal’, electricity for all, cooking gas for all, bank accounts and financial services for all, in record time.  The worries about food have been eliminated through free ration for 80 crore people. Minimum support prices for the produce of ‘Annadata’   are periodically increased appropriately. These and the provision of basic necessities have enhanced real income in the rural areas. Their economic needs could be addressed, thus spurring growth and generating jobs.   Social Justice  Our Government is working with an approach to development that is all-round, all-pervasive and all-inclusive (सर्वांगीण, सर्वस्पर्शी और सर्वसमावेशी). It covers all castes and people at all levels. We are working to make India a ‘Viksit Bharat’ by 2047. For achieving that goal, we need to improve people’s capability and empower them.  Previously, social justice was mostly a political slogan. For our Government, social justice is an effective and necessary governance model. The saturation approach of covering all eligible people is the true and comprehensive achievement of social justice. This is secularism in action, reduces corruption, and prevents nepotism (भाई-भतीजावाद). There is transparency and assurance that benefits are delivered to all eligible people.  The resources are distributed fairly. All, regardless of their social standing, get access to opportunities. We are addressing systemic inequalities that had plagued our society. We focus on outcomes and not on outlays so that the socio-economic transformation is achieved.   As our Prime Minister firmly believes, we need to focus on four major castes. They are, ‘Garib’ (Poor), ‘Mahilayen’ (Women), ‘Yuva’ (Youth) and  ‘Annadata’ (Farmer). Their needs, their aspirations, and their welfare are our highest priority. The country progresses, when they progress. All four require and receive government support in their quest to better their lives. Their empowerment and well-being will drive the country forward.  Garib Kalyan, Desh ka Kalyan We believe in empowering the poor. The earlier approach of tackling poverty through entitlements had resulted in very modest outcomes. When the poor become empowered partners in the development process, government’s power to assist them also increases manifold. With the pursuit of ‘Sabka ka Saath’ in these 10 years, the Government has assisted 25 crore people to get freedom from multi-dimensional poverty. Our Government’s efforts are now getting synergized with energy and passion of such empowered people. This is truly elevating them from poverty.   ‘Direct Benefit Transfer’ of ` 34 lakh crore from the Government using PM-Jan Dhan accounts has led to savings of \\n` 2.7 lakh crore for the Government. This has been realized through avoidance of leakages prevalent earlier. The savings have helped in providing more funds for ‘Garib Kalyan’.  PM-SVANidhi has provided credit assistance to 78 lakh street vendors.  From that total, 2.3 lakh have received credit for the third time.  PM-JANMAN Yojana reaches out to the particularly vulnerable tribal groups, who have remained outside the realm of development so far. PM-Vishwakarma Yojana provides end-to-end support to artisans and craftspeople engaged in 18 trades. The schemes for empowerment of Divyangs and Transgender persons reflect firm resolve of our Government to leave no one behind.  Welfare of Annadata Farmers are our ‘Annadata’. Every year, under PM-KISAN SAMMAN Yojana, direct financial assistance is provided to \\n11.8 crore farmers, including marginal and small farmers.  Crop insurance is given to 4 crore farmers under PM Fasal Bima Yojana. These, besides several other programmes, are assisting ‘Annadata’  in producing food for the country and the world.  Electronic National Agriculture Market has integrated \\n1361 mandis, and is providing services to 1.8 crore farmers with trading volume of ` 3 lakh crore.  The sector is poised for inclusive, balanced, higher growth and productivity. These are facilitated from farmer-centric policies, income support, coverage of risks through price and insurance support, promotion of technologies and innovations through start-ups.  Empowering Amrit Peedhi, the Yuva Our prosperity depends on adequately equipping and empowering the youth. The National Education Policy 2020 is ushering in transformational reforms. PM ScHools for Rising India (PM SHRI) are delivering quality teaching, and nurturing holistic and well-rounded individuals.  The Skill India Mission has trained 1.4 crore youth, upskilled and reskilled 54 lakh youth, and established 3000 new ITIs. A large number of new institutions of higher learning, namely 7 IITs, 16 IIITs, 7 IIMs, 15 AIIMS and 390 universities have been set up.   PM Mudra Yojana has sanctioned 43 crore loans aggregating to ` 22.5 lakh crore for entrepreneurial aspirations of our youth. Besides that, Fund of Funds, Start Up India, and Start Up Credit Guarantee schemes are assisting our youth. They are also becoming ‘rozgardata’.  The country is proud of our youth scaling new heights in sports. The highest ever medal tally in Asian Games and Asian Para Games in 2023 reflects a high confidence level. Chess prodigy and our Number-One ranked player Praggnanandhaa put up a stiff fight against the reigning World Champion Magnus Carlsson in 2023. Today, India has over 80 chess grandmasters compared to little over 20 in 2010. Momentum for Nari Shakti The empowerment of women through entrepreneurship, ease of living, and dignity for them has gained momentum in these ten years.  Thirty crore Mudra Yojana loans have been given to women entrepreneurs. Female enrolment in higher education has gone up by twenty-eight per cent in ten years. In STEM courses, girls and women constitute forty-three per cent of enrolment - one of the highest in the world. All these measures are getting reflected in the increasing participation of women in workforce. Making ‘Triple Talaq’ illegal, reservation of one-third seats for women in the Lok Sabha and State legislative assemblies, and giving over seventy per cent houses under PM Awas Yojana in rural areas to women as sole or joint owners have enhanced their dignity. Exemplary Track Record of Governance, Development and Performance (GDP) Besides delivering on high growth in terms of Gross Domestic Product, the Government is equally focused on a more comprehensive ‘GDP’, i.e., ’Governance, Development and Performance’.   Our Government has provided transparent, accountable, people-centric and prompt trust-based administration with ‘citizen-first’ and ‘minimum government, maximum governance’ approach.  The impact of all-round development is discernible in all sectors. There is macro-economic stability, including in the external sector. Investments are robust. The economy is doing well.  People are living better and earning better, with even greater aspirations for the future. Average real income of the people has increased by fifty per cent. Inflation is moderate. People are getting empowered, equipped and enabled to pursue their aspirations. There is effective and timely delivery of programmes and of large projects.  Economic Management The multipronged economic management over the past ten years has complemented people-centric inclusive development. Following are some of the major elements.   All forms of infrastructure, physical, digital or social, are being built in record time.   All parts of the country are becoming active participants in economic growth.  Digital Public Infrastructure, a new ‘factor of production’ in the 21st century, is instrumental in formalization of the economy.      Goods and Services Tax has enabled ‘One Nation, One Market, One Tax’. Tax reforms have led to deepening and widening of tax base.  Strengthening of the financial sector has helped in making savings, credit and investments more efficient.   GIFT IFSC and the unified regulatory authority, IFSCA are creating a robust gateway for global capital and financial services for the economy.  Proactive inflation management has helped keep inflation within the policy band.   Global Context Geopolitically, global affairs are becoming more complex and challenging with wars and conflicts. Globalization is being redefined with reshoring and friend-shoring, disruption and fragmentation of supply chains, and competition for critical minerals and technologies. A new world order is emerging after the Covid pandemic.  India assumed G20 Presidency during very difficult times for the world. The global economy was going through high inflation, high interest rates, low growth, very high public debt, low trade growth, and climate challenges. The pandemic had led to a crisis of food, fertilizer, fuel and finances for the world, while India successfully navigated its way. The country showed the way forward and built consensus on solutions for those global problems.  The recently announced India-Middle East-Europe Economic Corridor is a strategic and economic game changer for India and others. In the words of Hon’ble Prime Minister, the corridor “will become the basis of world trade for hundreds of years to come, and history will remember that this corridor was initiated on Indian soil”.   Vision for ‘Viksit Bharat’ Our vision for ‘Viksit Bharat’ is that of “Prosperous Bharat in harmony with nature, with modern infrastructure, and providing opportunities for all citizens and all regions to reach their potential”. With confidence arising from strong and exemplary track-record of performance and progress earning ‘Sabka Vishwas’, the next five years will be years of unprecedented development, and golden moments to realize the dream of developed India @ 2047. The trinity of demography, democracy and diversity backed by ‘Sabka Prayas’ has the potential to fulfill aspirations of every Indian.  As Hon’ble Prime Minister in his Independence Day address to the nation mentioned, “There is no dearth of opportunities; as many opportunities as we want. The country is capable of creating more opportunities. Sky's the limit”.  Strategy for ‘Amrit Kaal’ Our Government will adopt economic policies that foster and sustain growth, facilitate inclusive and sustainable development, improve productivity, create opportunities for all, help them enhance their capabilities, and contribute to generation of resources to power investments and fulfil aspirations.   Guided by the principle ‘Reform, Perform, and Transform’, the Government will take up next generation reforms, and build consensus with the states and stakeholders for effective implementation.   It is an important policy priority for our Government to ensure timely and adequate finances, relevant technologies and appropriate training for the Micro, Small and Medium Enterprises (MSME) to grow and also compete globally. Orienting the regulatory environment to facilitate their growth will be an important element of this policy mix. Aligning with the ‘Panchamrit’ goals, our Government will facilitate sustaining high and more resource-efficient economic growth. This will work towards energy security in terms of availability, accessibility and affordability.   For meeting the investment needs our Government will prepare the financial sector in terms of size, capacity, skills and regulatory framework.   Aspirational Districts Programme Our Government stands ready to assist the states in faster development of aspirational districts and blocks, including generation of ample economic opportunities.  Development of the East  Our Government will pay utmost attention to make the eastern region and its people a powerful driver of India’s growth.  PM Awas Yojana (Grameen) Despite the challenges due to COVID, implementation of PM Awas Yojana (Grameen) continued and we are close to achieving the target of three crore houses. Two crore more houses will be taken up in the next five years to meet the requirement arising from increase in the number of families.   Rooftop solarization and muft bijli   Through rooftop solarization, one crore households will be enabled to obtain up to 300 units free electricity every month. This scheme follows the resolve of Hon’ble Prime Minister on the historic day of consecration of Ram Mandir in Ayodhya.  Following benefits are expected. Savings up to fifteen to eighteen thousand rupees annually for households from free solar electricity and selling the surplus to the distribution companies; Charging of electric vehicles; Entrepreneurship opportunities for a large number of vendors for supply and installation; Employment opportunities for the youth with technical skills in manufacturing, installation and maintenance; Housing for middle class Our Government will launch a scheme to help deserving sections of the middle class “living in rented houses, or slums, or chawls and unauthorized colonies” to buy or build their own houses.   Medical Colleges Several youth are ambitious to get qualified as doctors. They aim to serve our people through improved healthcare services. Our Government plans to set up more medical colleges by utilizing the existing hospital infrastructure under various departments. A committee for this purpose will be set-up to examine the issues and make relevant recommendations.  Cervical Cancer Vaccination Our Government will encourage vaccination for girls in age group of 9 to 14 years for prevention of cervical cancer.     Maternal and child health care Various schemes for maternal and child care will be brought under one comprehensive programme for synergy in implementation. Upgradation of anganwadi centres under “Saksham Anganwadi and Poshan 2.0” will be expedited for improved nutrition delivery, early childhood care and development.    The newly designed U-WIN platform for managing immunization and intensified efforts of Mission Indradhanush will be rolled out expeditiously throughout the country.  Ayushman Bharat Healthcare cover under Ayushman Bharat scheme will be extended to all ASHA workers, Anganwadi Workers and Helpers.  Agriculture and food processing The efforts for value addition in agricultural sector and boosting farmers’ income will be stepped up. Pradhan Mantri Kisan Sampada Yojana has benefitted 38 lakh farmers and generated 10 lakh employment. Pradhan Mantri Formalisation of Micro Food Processing Enterprises Yojana has assisted 2.4 lakh SHGs and sixty thousand individuals with credit linkages. Other schemes are complementing the efforts for reducing post-harvest losses, and improving productivity and incomes.  For ensuring faster growth of the sector, our Government will further promote private and public investment in\\npost-harvest activities including aggregation, modern storage, efficient supply chains, primary and secondary processing and marketing and branding.   Nano DAP After the successful adoption of Nano Urea, application of Nano DAP on various crops will be expanded in all agro-climatic zones.   Atmanirbhar Oil Seeds Abhiyan Building on the initiative announced in 2022, a strategy will be formulated to achieve ‘atmanirbharta’ for oil seeds such as mustard, groundnut, sesame, soybean, and sunflower. This will cover research for high-yielding varieties, widespread adoption of modern farming techniques, market linkages, procurement, value addition, and crop insurance.      Dairy Development A comprehensive programme for supporting dairy farmers will be formulated. Efforts are already on to control foot and mouth disease. India is the world’s largest milk producer but with low productivity of milch-animals. The programme will be built on the success of existing schemes such Rashtriya Gokul Mission, National Livestock Mission, and Infrastructure Development Funds for dairy processing and animal husbandry.   Matsya Sampada It was our Government which set up a separate Department for Fisheries realizing the importance of assisting fishermen. This has resulted in doubling of both inland and aquaculture production. Seafood export since 2013-14 has also doubled.  Implementation of Pradhan Mantri Matsya Sampada Yojana (PMMSY) will be stepped up to:  enhance aquaculture productivity from existing 3 to\\n5 tons per hectare,  double exports to ` 1 lakh crore and  generate 55 lakh employment opportunities in near future.  Five integrated aquaparks will be setup.  Lakhpati Didi Eighty-three lakh SHGs with nine crore women are transforming rural socio-economic landscape with empowerment and self-reliance. Their success has assisted nearly one crore women to become Lakhpati Didi already. They are an inspiration to others. Their achievements will be recognized through honouring them. Buoyed by the success, it has been decided to enhance the target for Lakhpati Didi from \\n2 crore to 3 crore.  Technological Changes New age technologies and data are changing the lives of people and businesses. They are also enabling new economic opportunities and facilitating provision of high-quality services at affordable prices for all, including those at ‘bottom of the pyramid’. Opportunities for India at the global level are expanding. India is showing solutions through innovation and entrepreneurship of its people.  Research and Innovation for catalyzing growth, employment and development Prime Minister Shastri gave the slogan of “Jai Jawan Jai Kisan”. Prime Minister Vajpayee made that “Jai Jawan Jai Kisan Jai Vigyan”. Prime Minister Modi has furthered that to “Jai Jawan Jai Kisan Jai Vigyan and Jai Anusandhan”, as innovation is the foundation of development.  For our tech savvy youth, this will be a golden era. \\nA corpus of rupees one lakh crore will be established with\\nfifty-year interest free loan. The corpus will provide long-term financing or refinancing with long tenors and low or nil interest rates. This will encourage the private sector to scale up research and innovation significantly in sunrise domains. We need to have programmes that combine the powers of our youth and technology. A new scheme will be launched for strengthening \\ndeep-tech technologies for defence purposes and expediting ‘atmanirbharta’.    Infrastructure Development Building on the massive tripling of the capital expenditure outlay in the past 4 years resulting in huge multiplier impact on economic growth and employment creation, the outlay for the next year is being increased by 11.1 per cent to eleven lakh, eleven thousand, one hundred and eleven crore rupees \\n(` 11,11,111 crore). This would be 3.4 per cent of the GDP.  Railways Three major economic railway corridor programmes will be implemented. These are: energy, mineral and cement corridors,  port connectivity corridors, and  high traffic density corridors.  The projects have been identified under the PM Gati Shakti for enabling multi-modal connectivity. They will improve logistics efficiency and reduce cost.    The resultant decongestion of the high-traffic corridors will also help in improving operations of passenger trains, resulting in safety and higher travel speed for passengers. Together with dedicated freight corridors, these three economic corridor programmes will accelerate our GDP growth and reduce logistic costs.   Forty thousand normal rail bogies will be converted to the Vande Bharat standards to enhance safety, convenience and comfort of passengers.  Aviation Sector The aviation sector has been galvanized in the past \\nten years. Number of airports have doubled to 149. Roll out of air connectivity to tier-two and tier-three cities under UDAN scheme has been widespread.  Five hundred and seventeen new routes are carrying 1.3 crore passengers. Indian carriers have pro-actively placed orders for over 1000 new aircrafts. Expansion of existing airports and development of new airports will continue expeditiously. Metro and NaMo Bharat  We have a fast-expanding middle class and rapid urbanization is taking place.  Metro Rail and NaMo Bharat can be the catalyst for the required urban transformation. Expansion of these systems will be supported in large cities focusing on transit-oriented development. Green Energy  Towards meeting our commitment for ‘net-zero’ by 2070, the following measures will be taken. Viability gap funding will be provided for harnessing offshore wind energy potential for initial capacity of one giga-watt. Coal gasification and liquefaction capacity of 100 MT will be set up by 2030. This will also help in reducing imports of natural gas, methanol, and ammonia.   Phased mandatory blending of compressed biogas (CBG) in compressed natural gas (CNG) for transport and piped natural gas (PNG) for domestic purposes will be mandated.  Financial\\xa0assistance will be provided for procurement of biomass aggregation machinery to support collection. Electric Vehicle Ecosystem Our Government will expand and strengthen the e-vehicle ecosystem by supporting manufacturing and charging infrastructure. Greater adoption of e-buses for public transport networks will be encouraged through payment security mechanism.  Bio-manufacturing and Bio-foundry For promoting green growth, a new scheme of\\nbio-manufacturing and bio-foundry will be launched. This will provide environment friendly alternatives such as biodegradable polymers, bio-plastics, bio-pharmaceuticals and bio-agri-inputs.  This scheme will also help in transforming today’s consumptive manufacturing paradigm to the one based on regenerative principles. Blue Economy 2.0 For promoting climate resilient activities for blue economy 2.0, a scheme for restoration and adaptation measures, and coastal aquaculture and mariculture with integrated and \\nmulti-sectoral approach will be launched.   Comprehensive development of tourist centres The success of organizing G20 meetings in sixty places presented diversity of India to global audience. Our economic strength has made the country an attractive destination for business and conference tourism. Our middle class also now aspires to travel and explore. Tourism, including spiritual tourism, has tremendous opportunities for local entrepreneurship. States will be encouraged to take up comprehensive development of iconic tourist centres, branding and marketing them at global scale. A framework for rating of the centres based on quality of facilities and services will be established. Long-term interest free loans will be provided to States for financing such development on matching basis. To address the emerging fervour for domestic tourism, projects for port connectivity, tourism infrastructure, and amenities will be taken up on our islands, including Lakshadweep. This will help in generating employment also. Promoting Investments The FDI inflow during 2014-23 was USD 596 billion marking a golden era.  That is twice the inflow during 2005-14.  \\nFor encouraging sustained foreign investment, we are negotiating bilateral investment treaties with our foreign partners, in the spirit of ‘first develop India’.   Reforms in the States for ‘Viksit Bharat’ Many growth and development enabling reforms are needed in the states for realizing the vision of ‘Viksit Bharat’. \\nA provision of seventy-five thousand crore rupees as fifty-year interest free loan is proposed this year to support those milestone-linked reforms by the State Governments.   Societal Changes The Government will form a high-powered committee for an extensive consideration of the challenges arising from fast population growth and demographic changes. The committee will be mandated to make recommendations for addressing these challenges comprehensively in relation to the goal of ‘Viksit Bharat’. Amrit Kaal as Kartavya Kaal Our Government stands committed to strengthening and expanding the economy with high growth and to create conditions for people to realize their aspirations.  Hon’ble Prime Minister in his Independence Day address to the nation, in the 75th year of our Republic said; we “commit ourselves to national development, with new inspirations, new consciousness, new resolutions, as the country opens up immense possibilities and opportunities”. It is our ‘Kartavya Kaal’. Every challenge of the pre-2014 era was overcome through our economic management and our governance. These have placed the country on a resolute path of sustained high growth.  This has been possible through our right policies, true intentions, and appropriate decisions. In the full budget in July, our Government will present a detailed roadmap for our pursuit of ‘Viksit Bharat’.  Revised Estimates 2023-24 The Revised Estimate of the total receipts other than borrowings is ` 27.56 lakh crore, of which the tax receipts are \\n` 23.24 lakh crore. The Revised Estimate of the total expenditure is ` 44.90 lakh crore.      The revenue receipts at ` 30.03 lakh crore are expected to be higher than the Budget Estimate, reflecting strong growth momentum and formalization in the economy.  The Revised Estimate of the fiscal deficit is 5.8 per cent of GDP, improving on the Budget Estimate, notwithstanding moderation in the nominal growth estimates.        Budget Estimates 2024-25 Coming to 2024-25, the total receipts other than borrowings and the total expenditure are estimated at ` 30.80 and 47.66 lakh crore respectively. The tax receipts are estimated at ` 26.02 lakh crore.     The scheme of fifty-year interest free loan for capital expenditure to states will be continued this year with total outlay of  ` 1.3 lakh crore.  We continue on the path of fiscal consolidation, as announced in my Budget Speech for 2021-22, to reduce fiscal deficit below 4.5 per cent by 2025-26. The fiscal deficit in \\n2024-25 is estimated to be 5.1 per cent of GDP, adhering to that path.   The gross and net market borrowings through dated securities during 2024-25 are estimated at ` 14.13 and \\n11.75 lakh crore respectively. Both will be less than that in \\n2023-24. Now that the private investments are happening at scale, the lower borrowings by the Central Government will facilitate larger availability of credit for the private sector.   Vote on Account I will be seeking ‘vote on account’ approval of the Parliament through the Appropriation Bill for a part of the financial year 2024-25.    I will, now, move to Part B.  Part B Hon’ble Speaker Sir, Direct taxes Over the last ten years, the direct tax collections have more than trebled and the return filers swelled to 2.4 times. \\nI would like to assure the taxpayers that their contributions have been used wisely for the development of the country and welfare of its people. I appreciate the tax payers for their support. The Government has reduced and rationalized tax rates. Under the new tax scheme, there is now no tax liability for tax payers with income up to ₹ 7 lakh, up from ₹ 2.2 lakh in the financial year 2013-14. The threshold for presumptive taxation for retail businesses was increased from ₹ 2 crore to ₹ 3 crore. Similarly, the threshold for professionals eligible for presumptive taxation was increased from ₹ 50 lakh to ₹ 75 Lakh. Also, corporate tax rate was decreased from 30 per cent to 22 per cent for existing domestic companies and to 15 per cent for certain new manufacturing companies. In the last five years, our focus has been to improve \\ntax-payer services. The age-old jurisdiction-based assessment system was transformed with the introduction of Faceless Assessment and Appeal, thereby imparting greater efficiency, transparency and accountability. Introduction of updated income tax returns, a new Form 26AS and prefilling of tax returns have made filing of tax returns simpler and easier. Average processing time of returns has been reduced from 93 days in the year \\n2013-14 to a mere ten days this year, thereby making refunds faster.  Indirect Taxes  By unifying the highly fragmented indirect tax regime in India, GST has reduced the compliance burden on trade and industry. The industry has acknowledged the benefits of GST. According to a recent survey conducted by a leading consulting firm, 94 per cent of industry leaders view the transition to GST as largely positive. According to 80 per cent of the respondents, it has led to supply chain optimisation, as elimination of tax arbitrage and octroi has resulted in disbanding of check posts at state and city boundaries. At the same time, tax base of GST more than doubled and the average monthly gross GST collection has almost doubled to ₹ 1.66 lakh crore, this year. States too have benefited. States’ SGST revenue, including compensation released to states, in the post-GST period of \\n2017-18 to 2022-23, has achieved a buoyancy of 1.22. In contrast, the tax buoyancy of State revenues from subsumed taxes in the pre-GST four-year period of 2012-13 to 2015-16 was a mere 0.72. The biggest beneficiaries are the consumers, as reduction in logistics costs and taxes have brought down prices of most goods and services. We have taken a number of steps in Customs to facilitate international trade. As a result, the import release time declined by 47 per cent to 71 hours at Inland Container Depots, by 28 per cent to 44 hours at air cargo complexes and by 27 per cent to \\n85 hours at sea ports, over the last four years since 2019, when the National Time Release Studies were first started. Tax proposals As for tax proposals, in keeping with the convention, I do not propose to make any changes relating to taxation and propose to retain the same tax rates for direct taxes and indirect taxes including import duties. However, certain tax benefits to start-ups and investments made by sovereign wealth or pension funds as also tax exemption on certain income of some IFSC units are expiring on 31.03.2024. To provide continuity in taxation, \\nI propose to extend the date to 31.03.2025. Moreover, in line with our Government’s vision to improve ease of living and ease of doing business, I wish to make an announcement to improve tax payer services. There are a large number of petty, non-verified, non-reconciled or disputed direct tax demands, many of them dating as far back as the year 1962, which continue to remain on the books, causing anxiety to honest tax payers and hindering refunds of subsequent years. \\nI propose to withdraw such outstanding direct tax demands up to twenty-five thousand rupees (₹ 25,000) pertaining to the period up to financial year 2009-10 and up to ten-thousand rupees (₹ 10,000) for financial years 2010-11 to 2014-15. This is expected to benefit about a crore tax-payers. Economy – Then and Now In 2014 when our Government assumed the reins, the responsibility to mend the economy step by step and to put the governance systems in order was enormous. The need of the hour was to give hope to the people, to attract investments, and to build support for the much-needed reforms. The Government did that successfully following our strong belief of ‘nation-first’.   The crisis of those years has been overcome, and the economy has been put firmly on a high sustainable growth path with all-round development. It is now appropriate to look at where we were then till 2014 and where we are now, only for the purpose of drawing lessons from the mismanagement of those years. The Government will lay a White Paper on table of the House.  The exemplary track record of governance, development and performance, effective delivery, and ‘Jan Kalyan’ has given the Government trust, confidence and blessings of the people to realize, whatever it takes, the goal of ‘Viksit Bharat’ with good intentions, true dedication and hard work in the coming years and decades.   With this, I commend the interim budget to this august House. Jai Hind.\""
            ],
            "application/vnd.google.colaboratory.intrinsic+json": {
              "type": "string"
            }
          },
          "metadata": {},
          "execution_count": 2
        }
      ]
    },
    {
      "cell_type": "code",
      "source": [
        "import nltk\n",
        "nltk.download('stopwords')\n",
        "nltk.download('punkt')"
      ],
      "metadata": {
        "colab": {
          "base_uri": "https://localhost:8080/"
        },
        "id": "Hfz-Y8I6FBMV",
        "outputId": "29b6d1f4-c583-4d40-b7b4-325011ca847e"
      },
      "execution_count": null,
      "outputs": [
        {
          "output_type": "stream",
          "name": "stderr",
          "text": [
            "[nltk_data] Downloading package stopwords to /root/nltk_data...\n",
            "[nltk_data]   Package stopwords is already up-to-date!\n",
            "[nltk_data] Downloading package punkt to /root/nltk_data...\n",
            "[nltk_data]   Package punkt is already up-to-date!\n"
          ]
        },
        {
          "output_type": "execute_result",
          "data": {
            "text/plain": [
              "True"
            ]
          },
          "metadata": {},
          "execution_count": 3
        }
      ]
    },
    {
      "cell_type": "code",
      "source": [
        "import string\n",
        "import re\n",
        "from nltk.corpus import stopwords\n",
        "from nltk.tokenize import word_tokenize\n",
        "\n",
        "def clean_text(extracted_text):\n",
        "\n",
        "    cleaned_text = a.lower()  # Convert to lowercase\n",
        "    cleaned_text = cleaned_text.translate(str.maketrans('', '', string.punctuation))  # Remove punctuation (adjust if needed)\n",
        "    cleaned_text = re.sub(r'\\d+', '', cleaned_text)  # Remove numbers (adjust if needed)\n",
        "    tokens = word_tokenize(cleaned_text)\n",
        "    stop_words = set(stopwords.words(\"english\"))\n",
        "    cleaned_text = \" \".join([token for token in tokens if token not in stop_words])\n",
        "\n",
        "    return cleaned_text\n",
        "text1=clean_text(a)"
      ],
      "metadata": {
        "id": "r_nAr8efEdeK"
      },
      "execution_count": null,
      "outputs": []
    },
    {
      "cell_type": "code",
      "source": [
        "text1"
      ],
      "metadata": {
        "colab": {
          "base_uri": "https://localhost:8080/",
          "height": 192
        },
        "id": "o8tc_A_XFLp2",
        "outputId": "33c204c3-3ec0-4f63-88aa-d759eff22fc2"
      },
      "execution_count": null,
      "outputs": [
        {
          "output_type": "execute_result",
          "data": {
            "text/plain": [
              "'interim budget speech nirmala sitharaman minister finance february hon ’ ble speaker present interim budget introduction indian economy witnessed profound positive transformation last ten years people india looking ahead future hope optimism blessings people government visionary dynamic leadership hon ’ ble prime minister shri narendra modi assumed office country facing enormous challenges ‘ sabka saath sabka vikas ’ ‘ mantra ’ government overcame challenges right earnest structural reforms undertaken propeople programmes formulated implemented promptly conditions created opportunities employment entrepreneurship economy got new vigour fruits development started reaching people scale country got new sense purpose hope naturally people blessed government bigger mandate second term government leadership hon ’ ble prime minister doubled responsibilities build prosperous country comprehensive development people regions government strengthened ‘ mantra ’ ‘ sabka saath sabka vikas sabka vishwas ’ development philosophy covered elements inclusivity namely social inclusivity coverage strata society geographical inclusivity development regions country ‘ whole nation ’ approach ‘ sabka prayas ’ country overcame challenge onceinacentury pandemic took long strides towards ‘ atmanirbhar bharat ’ committed ‘ panch pran ’ laid solid foundations ‘ amrit kaal ’ result young country high aspirations pride present hope confidence bright future expect government based stupendous work blessed people resounding mandate inclusive development growth humane inclusive approach development marked deliberate departure earlier approach ‘ provisioning uptovillage level ’ development programmes last ten years targeted every household individual ‘ housing ’ ‘ har ghar jal ’ electricity cooking gas bank accounts financial services record time worries food eliminated free ration crore people minimum support prices produce ‘ annadata ’ periodically increased appropriately provision basic necessities enhanced real income rural areas economic needs could addressed thus spurring growth generating jobs social justice government working approach development allround allpervasive allinclusive सर्वांगीण सर्वस्पर्शी और सर्वसमावेशी covers castes people levels working make india ‘ viksit bharat ’ achieving goal need improve people ’ capability empower previously social justice mostly political slogan government social justice effective necessary governance model saturation approach covering eligible people true comprehensive achievement social justice secularism action reduces corruption prevents nepotism भाईभतीजावाद transparency assurance benefits delivered eligible people resources distributed fairly regardless social standing get access opportunities addressing systemic inequalities plagued society focus outcomes outlays socioeconomic transformation achieved prime minister firmly believes need focus four major castes ‘ garib ’ poor ‘ mahilayen ’ women ‘ yuva ’ youth ‘ annadata ’ farmer needs aspirations welfare highest priority country progresses progress four require receive government support quest better lives empowerment wellbeing drive country forward garib kalyan desh ka kalyan believe empowering poor earlier approach tackling poverty entitlements resulted modest outcomes poor become empowered partners development process government ’ power assist also increases manifold pursuit ‘ sabka ka saath ’ years government assisted crore people get freedom multidimensional poverty government ’ efforts getting synergized energy passion empowered people truly elevating poverty ‘ direct benefit transfer ’ lakh crore government using pmjan dhan accounts led savings lakh crore government realized avoidance leakages prevalent earlier savings helped providing funds ‘ garib kalyan ’ pmsvanidhi provided credit assistance lakh street vendors total lakh received credit third time pmjanman yojana reaches particularly vulnerable tribal groups remained outside realm development far pmvishwakarma yojana provides endtoend support artisans craftspeople engaged trades schemes empowerment divyangs transgender persons reflect firm resolve government leave one behind welfare annadata farmers ‘ annadata ’ every year pmkisan samman yojana direct financial assistance provided crore farmers including marginal small farmers crop insurance given crore farmers pm fasal bima yojana besides several programmes assisting ‘ annadata ’ producing food country world electronic national agriculture market integrated mandis providing services crore farmers trading volume lakh crore sector poised inclusive balanced higher growth productivity facilitated farmercentric policies income support coverage risks price insurance support promotion technologies innovations startups empowering amrit peedhi yuva prosperity depends adequately equipping empowering youth national education policy ushering transformational reforms pm schools rising india pm shri delivering quality teaching nurturing holistic wellrounded individuals skill india mission trained crore youth upskilled reskilled lakh youth established new itis large number new institutions higher learning namely iits iiits iims aiims universities set pm mudra yojana sanctioned crore loans aggregating lakh crore entrepreneurial aspirations youth besides fund funds start india start credit guarantee schemes assisting youth also becoming ‘ rozgardata ’ country proud youth scaling new heights sports highest ever medal tally asian games asian para games reflects high confidence level chess prodigy numberone ranked player praggnanandhaa put stiff fight reigning world champion magnus carlsson today india chess grandmasters compared little momentum nari shakti empowerment women entrepreneurship ease living dignity gained momentum ten years thirty crore mudra yojana loans given women entrepreneurs female enrolment higher education gone twentyeight per cent ten years stem courses girls women constitute fortythree per cent enrolment one highest world measures getting reflected increasing participation women workforce making ‘ triple talaq ’ illegal reservation onethird seats women lok sabha state legislative assemblies giving seventy per cent houses pm awas yojana rural areas women sole joint owners enhanced dignity exemplary track record governance development performance gdp besides delivering high growth terms gross domestic product government equally focused comprehensive ‘ gdp ’ ie ’ governance development performance ’ government provided transparent accountable peoplecentric prompt trustbased administration ‘ citizenfirst ’ ‘ minimum government maximum governance ’ approach impact allround development discernible sectors macroeconomic stability including external sector investments robust economy well people living better earning better even greater aspirations future average real income people increased fifty per cent inflation moderate people getting empowered equipped enabled pursue aspirations effective timely delivery programmes large projects economic management multipronged economic management past ten years complemented peoplecentric inclusive development following major elements forms infrastructure physical digital social built record time parts country becoming active participants economic growth digital public infrastructure new ‘ factor production ’ st century instrumental formalization economy goods services tax enabled ‘ one nation one market one tax ’ tax reforms led deepening widening tax base strengthening financial sector helped making savings credit investments efficient gift ifsc unified regulatory authority ifsca creating robust gateway global capital financial services economy proactive inflation management helped keep inflation within policy band global context geopolitically global affairs becoming complex challenging wars conflicts globalization redefined reshoring friendshoring disruption fragmentation supply chains competition critical minerals technologies new world order emerging covid pandemic india assumed g presidency difficult times world global economy going high inflation high interest rates low growth high public debt low trade growth climate challenges pandemic led crisis food fertilizer fuel finances world india successfully navigated way country showed way forward built consensus solutions global problems recently announced indiamiddle easteurope economic corridor strategic economic game changer india others words hon ’ ble prime minister corridor “ become basis world trade hundreds years come history remember corridor initiated indian soil ” vision ‘ viksit bharat ’ vision ‘ viksit bharat ’ “ prosperous bharat harmony nature modern infrastructure providing opportunities citizens regions reach potential ” confidence arising strong exemplary trackrecord performance progress earning ‘ sabka vishwas ’ next five years years unprecedented development golden moments realize dream developed india trinity demography democracy diversity backed ‘ sabka prayas ’ potential fulfill aspirations every indian hon ’ ble prime minister independence day address nation mentioned “ dearth opportunities many opportunities want country capable creating opportunities skys limit ” strategy ‘ amrit kaal ’ government adopt economic policies foster sustain growth facilitate inclusive sustainable development improve productivity create opportunities help enhance capabilities contribute generation resources power investments fulfil aspirations guided principle ‘ reform perform transform ’ government take next generation reforms build consensus states stakeholders effective implementation important policy priority government ensure timely adequate finances relevant technologies appropriate training micro small medium enterprises msme grow also compete globally orienting regulatory environment facilitate growth important element policy mix aligning ‘ panchamrit ’ goals government facilitate sustaining high resourceefficient economic growth work towards energy security terms availability accessibility affordability meeting investment needs government prepare financial sector terms size capacity skills regulatory framework aspirational districts programme government stands ready assist states faster development aspirational districts blocks including generation ample economic opportunities development east government pay utmost attention make eastern region people powerful driver india ’ growth pm awas yojana grameen despite challenges due covid implementation pm awas yojana grameen continued close achieving target three crore houses two crore houses taken next five years meet requirement arising increase number families rooftop solarization muft bijli rooftop solarization one crore households enabled obtain units free electricity every month scheme follows resolve hon ’ ble prime minister historic day consecration ram mandir ayodhya following benefits expected savings fifteen eighteen thousand rupees annually households free solar electricity selling surplus distribution companies charging electric vehicles entrepreneurship opportunities large number vendors supply installation employment opportunities youth technical skills manufacturing installation maintenance housing middle class government launch scheme help deserving sections middle class “ living rented houses slums chawls unauthorized colonies ” buy build houses medical colleges several youth ambitious get qualified doctors aim serve people improved healthcare services government plans set medical colleges utilizing existing hospital infrastructure various departments committee purpose setup examine issues make relevant recommendations cervical cancer vaccination government encourage vaccination girls age group years prevention cervical cancer maternal child health care various schemes maternal child care brought one comprehensive programme synergy implementation upgradation anganwadi centres “ saksham anganwadi poshan ” expedited improved nutrition delivery early childhood care development newly designed uwin platform managing immunization intensified efforts mission indradhanush rolled expeditiously throughout country ayushman bharat healthcare cover ayushman bharat scheme extended asha workers anganwadi workers helpers agriculture food processing efforts value addition agricultural sector boosting farmers ’ income stepped pradhan mantri kisan sampada yojana benefitted lakh farmers generated lakh employment pradhan mantri formalisation micro food processing enterprises yojana assisted lakh shgs sixty thousand individuals credit linkages schemes complementing efforts reducing postharvest losses improving productivity incomes ensuring faster growth sector government promote private public investment postharvest activities including aggregation modern storage efficient supply chains primary secondary processing marketing branding nano dap successful adoption nano urea application nano dap various crops expanded agroclimatic zones atmanirbhar oil seeds abhiyan building initiative announced strategy formulated achieve ‘ atmanirbharta ’ oil seeds mustard groundnut sesame soybean sunflower cover research highyielding varieties widespread adoption modern farming techniques market linkages procurement value addition crop insurance dairy development comprehensive programme supporting dairy farmers formulated efforts already control foot mouth disease india world ’ largest milk producer low productivity milchanimals programme built success existing schemes rashtriya gokul mission national livestock mission infrastructure development funds dairy processing animal husbandry matsya sampada government set separate department fisheries realizing importance assisting fishermen resulted doubling inland aquaculture production seafood export since also doubled implementation pradhan mantri matsya sampada yojana pmmsy stepped enhance aquaculture productivity existing tons per hectare double exports lakh crore generate lakh employment opportunities near future five integrated aquaparks setup lakhpati didi eightythree lakh shgs nine crore women transforming rural socioeconomic landscape empowerment selfreliance success assisted nearly one crore women become lakhpati didi already inspiration others achievements recognized honouring buoyed success decided enhance target lakhpati didi crore crore technological changes new age technologies data changing lives people businesses also enabling new economic opportunities facilitating provision highquality services affordable prices including ‘ bottom pyramid ’ opportunities india global level expanding india showing solutions innovation entrepreneurship people research innovation catalyzing growth employment development prime minister shastri gave slogan “ jai jawan jai kisan ” prime minister vajpayee made “ jai jawan jai kisan jai vigyan ” prime minister modi furthered “ jai jawan jai kisan jai vigyan jai anusandhan ” innovation foundation development tech savvy youth golden era corpus rupees one lakh crore established fiftyyear interest free loan corpus provide longterm financing refinancing long tenors low nil interest rates encourage private sector scale research innovation significantly sunrise domains need programmes combine powers youth technology new scheme launched strengthening deeptech technologies defence purposes expediting ‘ atmanirbharta ’ infrastructure development building massive tripling capital expenditure outlay past years resulting huge multiplier impact economic growth employment creation outlay next year increased per cent eleven lakh eleven thousand one hundred eleven crore rupees crore would per cent gdp railways three major economic railway corridor programmes implemented energy mineral cement corridors port connectivity corridors high traffic density corridors projects identified pm gati shakti enabling multimodal connectivity improve logistics efficiency reduce cost resultant decongestion hightraffic corridors also help improving operations passenger trains resulting safety higher travel speed passengers together dedicated freight corridors three economic corridor programmes accelerate gdp growth reduce logistic costs forty thousand normal rail bogies converted vande bharat standards enhance safety convenience comfort passengers aviation sector aviation sector galvanized past ten years number airports doubled roll air connectivity tiertwo tierthree cities udan scheme widespread five hundred seventeen new routes carrying crore passengers indian carriers proactively placed orders new aircrafts expansion existing airports development new airports continue expeditiously metro namo bharat fastexpanding middle class rapid urbanization taking place metro rail namo bharat catalyst required urban transformation expansion systems supported large cities focusing transitoriented development green energy towards meeting commitment ‘ netzero ’ following measures taken viability gap funding provided harnessing offshore wind energy potential initial capacity one gigawatt coal gasification liquefaction capacity mt set also help reducing imports natural gas methanol ammonia phased mandatory blending compressed biogas cbg compressed natural gas cng transport piped natural gas png domestic purposes mandated financial assistance provided procurement biomass aggregation machinery support collection electric vehicle ecosystem government expand strengthen evehicle ecosystem supporting manufacturing charging infrastructure greater adoption ebuses public transport networks encouraged payment security mechanism biomanufacturing biofoundry promoting green growth new scheme biomanufacturing biofoundry launched provide environment friendly alternatives biodegradable polymers bioplastics biopharmaceuticals bioagriinputs scheme also help transforming today ’ consumptive manufacturing paradigm one based regenerative principles blue economy promoting climate resilient activities blue economy scheme restoration adaptation measures coastal aquaculture mariculture integrated multisectoral approach launched comprehensive development tourist centres success organizing g meetings sixty places presented diversity india global audience economic strength made country attractive destination business conference tourism middle class also aspires travel explore tourism including spiritual tourism tremendous opportunities local entrepreneurship states encouraged take comprehensive development iconic tourist centres branding marketing global scale framework rating centres based quality facilities services established longterm interest free loans provided states financing development matching basis address emerging fervour domestic tourism projects port connectivity tourism infrastructure amenities taken islands including lakshadweep help generating employment also promoting investments fdi inflow usd billion marking golden era twice inflow encouraging sustained foreign investment negotiating bilateral investment treaties foreign partners spirit ‘ first develop india ’ reforms states ‘ viksit bharat ’ many growth development enabling reforms needed states realizing vision ‘ viksit bharat ’ provision seventyfive thousand crore rupees fiftyyear interest free loan proposed year support milestonelinked reforms state governments societal changes government form highpowered committee extensive consideration challenges arising fast population growth demographic changes committee mandated make recommendations addressing challenges comprehensively relation goal ‘ viksit bharat ’ amrit kaal kartavya kaal government stands committed strengthening expanding economy high growth create conditions people realize aspirations hon ’ ble prime minister independence day address nation th year republic said “ commit national development new inspirations new consciousness new resolutions country opens immense possibilities opportunities ” ‘ kartavya kaal ’ every challenge pre era overcome economic management governance placed country resolute path sustained high growth possible right policies true intentions appropriate decisions full budget july government present detailed roadmap pursuit ‘ viksit bharat ’ revised estimates revised estimate total receipts borrowings lakh crore tax receipts lakh crore revised estimate total expenditure lakh crore revenue receipts lakh crore expected higher budget estimate reflecting strong growth momentum formalization economy revised estimate fiscal deficit per cent gdp improving budget estimate notwithstanding moderation nominal growth estimates budget estimates coming total receipts borrowings total expenditure estimated lakh crore respectively tax receipts estimated lakh crore scheme fiftyyear interest free loan capital expenditure states continued year total outlay lakh crore continue path fiscal consolidation announced budget speech reduce fiscal deficit per cent fiscal deficit estimated per cent gdp adhering path gross net market borrowings dated securities estimated lakh crore respectively less private investments happening scale lower borrowings central government facilitate larger availability credit private sector vote account seeking ‘ vote account ’ approval parliament appropriation bill part financial year move part b part b hon ’ ble speaker sir direct taxes last ten years direct tax collections trebled return filers swelled times would like assure taxpayers contributions used wisely development country welfare people appreciate tax payers support government reduced rationalized tax rates new tax scheme tax liability tax payers income ₹ lakh ₹ lakh financial year threshold presumptive taxation retail businesses increased ₹ crore ₹ crore similarly threshold professionals eligible presumptive taxation increased ₹ lakh ₹ lakh also corporate tax rate decreased per cent per cent existing domestic companies per cent certain new manufacturing companies last five years focus improve taxpayer services ageold jurisdictionbased assessment system transformed introduction faceless assessment appeal thereby imparting greater efficiency transparency accountability introduction updated income tax returns new form prefilling tax returns made filing tax returns simpler easier average processing time returns reduced days year mere ten days year thereby making refunds faster indirect taxes unifying highly fragmented indirect tax regime india gst reduced compliance burden trade industry industry acknowledged benefits gst according recent survey conducted leading consulting firm per cent industry leaders view transition gst largely positive according per cent respondents led supply chain optimisation elimination tax arbitrage octroi resulted disbanding check posts state city boundaries time tax base gst doubled average monthly gross gst collection almost doubled ₹ lakh crore year states benefited states ’ sgst revenue including compensation released states postgst period achieved buoyancy contrast tax buoyancy state revenues subsumed taxes pregst fouryear period mere biggest beneficiaries consumers reduction logistics costs taxes brought prices goods services taken number steps customs facilitate international trade result import release time declined per cent hours inland container depots per cent hours air cargo complexes per cent hours sea ports last four years since national time release studies first started tax proposals tax proposals keeping convention propose make changes relating taxation propose retain tax rates direct taxes indirect taxes including import duties however certain tax benefits startups investments made sovereign wealth pension funds also tax exemption certain income ifsc units expiring provide continuity taxation propose extend date moreover line government ’ vision improve ease living ease business wish make announcement improve tax payer services large number petty nonverified nonreconciled disputed direct tax demands many dating far back year continue remain books causing anxiety honest tax payers hindering refunds subsequent years propose withdraw outstanding direct tax demands twentyfive thousand rupees ₹ pertaining period financial year tenthousand rupees ₹ financial years expected benefit crore taxpayers economy – government assumed reins responsibility mend economy step step put governance systems order enormous need hour give hope people attract investments build support muchneeded reforms government successfully following strong belief ‘ nationfirst ’ crisis years overcome economy put firmly high sustainable growth path allround development appropriate look till purpose drawing lessons mismanagement years government lay white paper table house exemplary track record governance development performance effective delivery ‘ jan kalyan ’ given government trust confidence blessings people realize whatever takes goal ‘ viksit bharat ’ good intentions true dedication hard work coming years decades commend interim budget august house jai hind'"
            ],
            "application/vnd.google.colaboratory.intrinsic+json": {
              "type": "string"
            }
          },
          "metadata": {},
          "execution_count": 5
        }
      ]
    },
    {
      "cell_type": "markdown",
      "source": [
        "**summarization**"
      ],
      "metadata": {
        "id": "2C264EIOFh6q"
      }
    },
    {
      "cell_type": "code",
      "source": [
        "!pip install transformers"
      ],
      "metadata": {
        "colab": {
          "base_uri": "https://localhost:8080/"
        },
        "id": "9Hx5TGE9FQ_L",
        "outputId": "f19019f4-022f-4f3d-dad3-313e811eb7e9"
      },
      "execution_count": null,
      "outputs": [
        {
          "output_type": "stream",
          "name": "stdout",
          "text": [
            "Requirement already satisfied: transformers in /usr/local/lib/python3.10/dist-packages (4.35.2)\n",
            "Requirement already satisfied: filelock in /usr/local/lib/python3.10/dist-packages (from transformers) (3.13.1)\n",
            "Requirement already satisfied: huggingface-hub<1.0,>=0.16.4 in /usr/local/lib/python3.10/dist-packages (from transformers) (0.20.3)\n",
            "Requirement already satisfied: numpy>=1.17 in /usr/local/lib/python3.10/dist-packages (from transformers) (1.23.5)\n",
            "Requirement already satisfied: packaging>=20.0 in /usr/local/lib/python3.10/dist-packages (from transformers) (23.2)\n",
            "Requirement already satisfied: pyyaml>=5.1 in /usr/local/lib/python3.10/dist-packages (from transformers) (6.0.1)\n",
            "Requirement already satisfied: regex!=2019.12.17 in /usr/local/lib/python3.10/dist-packages (from transformers) (2023.12.25)\n",
            "Requirement already satisfied: requests in /usr/local/lib/python3.10/dist-packages (from transformers) (2.31.0)\n",
            "Requirement already satisfied: tokenizers<0.19,>=0.14 in /usr/local/lib/python3.10/dist-packages (from transformers) (0.15.1)\n",
            "Requirement already satisfied: safetensors>=0.3.1 in /usr/local/lib/python3.10/dist-packages (from transformers) (0.4.2)\n",
            "Requirement already satisfied: tqdm>=4.27 in /usr/local/lib/python3.10/dist-packages (from transformers) (4.66.1)\n",
            "Requirement already satisfied: fsspec>=2023.5.0 in /usr/local/lib/python3.10/dist-packages (from huggingface-hub<1.0,>=0.16.4->transformers) (2023.6.0)\n",
            "Requirement already satisfied: typing-extensions>=3.7.4.3 in /usr/local/lib/python3.10/dist-packages (from huggingface-hub<1.0,>=0.16.4->transformers) (4.9.0)\n",
            "Requirement already satisfied: charset-normalizer<4,>=2 in /usr/local/lib/python3.10/dist-packages (from requests->transformers) (3.3.2)\n",
            "Requirement already satisfied: idna<4,>=2.5 in /usr/local/lib/python3.10/dist-packages (from requests->transformers) (3.6)\n",
            "Requirement already satisfied: urllib3<3,>=1.21.1 in /usr/local/lib/python3.10/dist-packages (from requests->transformers) (2.0.7)\n",
            "Requirement already satisfied: certifi>=2017.4.17 in /usr/local/lib/python3.10/dist-packages (from requests->transformers) (2024.2.2)\n"
          ]
        }
      ]
    },
    {
      "cell_type": "code",
      "source": [
        "from transformers import pipeline"
      ],
      "metadata": {
        "id": "aVyJ3amdFvtf"
      },
      "execution_count": null,
      "outputs": []
    },
    {
      "cell_type": "code",
      "source": [
        "summarizer = pipeline('summarization')"
      ],
      "metadata": {
        "colab": {
          "base_uri": "https://localhost:8080/"
        },
        "id": "w9JaqqZuF3md",
        "outputId": "7b87878b-1939-404a-b35c-8e791fbbdd15"
      },
      "execution_count": null,
      "outputs": [
        {
          "output_type": "stream",
          "name": "stderr",
          "text": [
            "No model was supplied, defaulted to sshleifer/distilbart-cnn-12-6 and revision a4f8f3e (https://huggingface.co/sshleifer/distilbart-cnn-12-6).\n",
            "Using a pipeline without specifying a model name and revision in production is not recommended.\n",
            "/usr/local/lib/python3.10/dist-packages/huggingface_hub/utils/_token.py:88: UserWarning: \n",
            "The secret `HF_TOKEN` does not exist in your Colab secrets.\n",
            "To authenticate with the Hugging Face Hub, create a token in your settings tab (https://huggingface.co/settings/tokens), set it as secret in your Google Colab and restart your session.\n",
            "You will be able to reuse this secret in all of your notebooks.\n",
            "Please note that authentication is recommended but still optional to access public models or datasets.\n",
            "  warnings.warn(\n"
          ]
        }
      ]
    },
    {
      "cell_type": "code",
      "source": [
        "from transformers import pipeline\n",
        "\n",
        "summarizer = pipeline(\"summarization\", model=\"Falconsai/text_summarization\")\n",
        "\n",
        "ARTICLE = text1\n",
        "print(summarizer(ARTICLE, max_length=1000, min_length=30, do_sample=False))\n",
        "[{'summary_text': 'Hugging Face has emerged as a prominent and innovative force in NLP . From its inception to its role in democratizing AI, the company has left an indelible mark on the industry . The name \"Hugging Face\" was chosen to reflect the company\\'s mission of making AI models more accessible and friendly to humans .'}]\n",
        "\n",
        "\n"
      ],
      "metadata": {
        "colab": {
          "base_uri": "https://localhost:8080/"
        },
        "id": "4MZ1l3jWHfkc",
        "outputId": "9a137ae7-d599-47ba-afc8-39f52d78ffd8"
      },
      "execution_count": null,
      "outputs": [
        {
          "output_type": "stream",
          "name": "stderr",
          "text": [
            "Token indices sequence length is longer than the specified maximum sequence length for this model (4588 > 512). Running this sequence through the model will result in indexing errors\n"
          ]
        },
        {
          "output_type": "stream",
          "name": "stdout",
          "text": [
            "[{'summary_text': 'nirmala sitharaman minister finance february hon ’ ble prime minister shri narendra modi assumed office country facing enormous challenges ‘ sabka ska vikas ’ ‘ mantra ’ government overcame challenges right earnest structural reforms undertaken propeople programmes formulated implemented promptly conditions created opportunities employment entrepreneurship economy got new sense purpose hope naturally people resounding ‘ mantra’ . ‘ viksit bharat’ – ‘ vs.'}]\n"
          ]
        },
        {
          "output_type": "execute_result",
          "data": {
            "text/plain": [
              "[{'summary_text': 'Hugging Face has emerged as a prominent and innovative force in NLP . From its inception to its role in democratizing AI, the company has left an indelible mark on the industry . The name \"Hugging Face\" was chosen to reflect the company\\'s mission of making AI models more accessible and friendly to humans .'}]"
            ]
          },
          "metadata": {},
          "execution_count": 9
        }
      ]
    },
    {
      "cell_type": "code",
      "source": [
        "from transformers import BertTokenizer\n",
        "\n",
        "# Load pre-trained model tokenizer\n",
        "tokenizer = BertTokenizer.from_pretrained('bert-base-uncased')\n",
        "\n",
        "# Your text to tokenize\n",
        "text = ARTICLE\n",
        "\n",
        "# Tokenize text\n",
        "tokens = tokenizer.tokenize(text)\n",
        "\n",
        "print(tokens)\n"
      ],
      "metadata": {
        "colab": {
          "base_uri": "https://localhost:8080/"
        },
        "id": "R33xvycpKWn8",
        "outputId": "724f265d-8b0a-4ad3-f8f6-cfde06c5a95e"
      },
      "execution_count": null,
      "outputs": [
        {
          "output_type": "stream",
          "name": "stdout",
          "text": [
            "['interim', 'budget', 'speech', 'ni', '##rma', '##la', 'sit', '##hara', '##man', 'minister', 'finance', 'february', 'hon', '’', 'b', '##le', 'speaker', 'present', 'interim', 'budget', 'introduction', 'indian', 'economy', 'witnessed', 'profound', 'positive', 'transformation', 'last', 'ten', 'years', 'people', 'india', 'looking', 'ahead', 'future', 'hope', 'optimism', 'blessings', 'people', 'government', 'visionary', 'dynamic', 'leadership', 'hon', '’', 'b', '##le', 'prime', 'minister', 'shri', 'na', '##ren', '##dra', 'mod', '##i', 'assumed', 'office', 'country', 'facing', 'enormous', 'challenges', '‘', 'sa', '##b', '##ka', 'sa', '##ath', 'sa', '##b', '##ka', 'vi', '##kas', '’', '‘', 'mantra', '’', 'government', 'overcame', 'challenges', 'right', 'earnest', 'structural', 'reforms', 'undertaken', 'prop', '##eo', '##ple', 'programmes', 'formulated', 'implemented', 'promptly', 'conditions', 'created', 'opportunities', 'employment', 'entrepreneurship', 'economy', 'got', 'new', 'vi', '##go', '##ur', 'fruits', 'development', 'started', 'reaching', 'people', 'scale', 'country', 'got', 'new', 'sense', 'purpose', 'hope', 'naturally', 'people', 'blessed', 'government', 'bigger', 'mandate', 'second', 'term', 'government', 'leadership', 'hon', '’', 'b', '##le', 'prime', 'minister', 'doubled', 'responsibilities', 'build', 'prosperous', 'country', 'comprehensive', 'development', 'people', 'regions', 'government', 'strengthened', '‘', 'mantra', '’', '‘', 'sa', '##b', '##ka', 'sa', '##ath', 'sa', '##b', '##ka', 'vi', '##kas', 'sa', '##b', '##ka', 'vis', '##hwa', '##s', '’', 'development', 'philosophy', 'covered', 'elements', 'inc', '##lus', '##ivity', 'namely', 'social', 'inc', '##lus', '##ivity', 'coverage', 'strata', 'society', 'geographical', 'inc', '##lus', '##ivity', 'development', 'regions', 'country', '‘', 'whole', 'nation', '’', 'approach', '‘', 'sa', '##b', '##ka', 'pray', '##as', '’', 'country', 'overcame', 'challenge', 'once', '##ina', '##cent', '##ury', 'pan', '##de', '##mic', 'took', 'long', 'strides', 'towards', '‘', 'atm', '##ani', '##rb', '##har', 'b', '##harat', '’', 'committed', '‘', 'pan', '##ch', 'pr', '##an', '’', 'laid', 'solid', 'foundations', '‘', 'am', '##rit', 'ka', '##al', '’', 'result', 'young', 'country', 'high', 'aspirations', 'pride', 'present', 'hope', 'confidence', 'bright', 'future', 'expect', 'government', 'based', 'stu', '##pen', '##dou', '##s', 'work', 'blessed', 'people', 'res', '##ound', '##ing', 'mandate', 'inclusive', 'development', 'growth', 'humane', 'inclusive', 'approach', 'development', 'marked', 'deliberate', 'departure', 'earlier', 'approach', '‘', 'provision', '##ing', 'up', '##tov', '##illa', '##ge', 'level', '’', 'development', 'programmes', 'last', 'ten', 'years', 'targeted', 'every', 'household', 'individual', '‘', 'housing', '’', '‘', 'ha', '##r', 'g', '##har', 'ja', '##l', '’', 'electricity', 'cooking', 'gas', 'bank', 'accounts', 'financial', 'services', 'record', 'time', 'worries', 'food', 'eliminated', 'free', 'ratio', '##n', 'crore', 'people', 'minimum', 'support', 'prices', 'produce', '‘', 'anna', '##da', '##ta', '’', 'periodically', 'increased', 'appropriately', 'provision', 'basic', 'nec', '##ess', '##ities', 'enhanced', 'real', 'income', 'rural', 'areas', 'economic', 'needs', 'could', 'addressed', 'thus', 'spur', '##ring', 'growth', 'generating', 'jobs', 'social', 'justice', 'government', 'working', 'approach', 'development', 'all', '##rou', '##nd', 'all', '##per', '##vas', '##ive', 'all', '##in', '##clusive', 'स', '##र', '##व', '##ा', '##ग', '##ी', '##ण', 'स', '##र', '##व', '##स', '##प', '##र', '##श', '##ी', '[UNK]', 'स', '##र', '##व', '##स', '##म', '##ा', '##व', '##श', '##ी', 'covers', 'castes', 'people', 'levels', 'working', 'make', 'india', '‘', 'vi', '##ks', '##it', 'b', '##harat', '’', 'achieving', 'goal', 'need', 'improve', 'people', '’', 'capability', 'em', '##power', 'previously', 'social', 'justice', 'mostly', 'political', 'slogan', 'government', 'social', 'justice', 'effective', 'necessary', 'governance', 'model', 'sat', '##uration', 'approach', 'covering', 'eligible', 'people', 'true', 'comprehensive', 'achievement', 'social', 'justice', 'secular', '##ism', 'action', 'reduces', 'corruption', 'prevents', 'ne', '##pot', '##ism', '[UNK]', 'transparency', 'assurance', 'benefits', 'delivered', 'eligible', 'people', 'resources', 'distributed', 'fairly', 'regardless', 'social', 'standing', 'get', 'access', 'opportunities', 'addressing', 'systemic', 'in', '##e', '##qual', '##ities', 'plagued', 'society', 'focus', 'outcomes', 'out', '##lay', '##s', 'socio', '##economic', 'transformation', 'achieved', 'prime', 'minister', 'firmly', 'believes', 'need', 'focus', 'four', 'major', 'castes', '‘', 'ga', '##ri', '##b', '’', 'poor', '‘', 'ma', '##hila', '##yen', '’', 'women', '‘', 'yu', '##va', '’', 'youth', '‘', 'anna', '##da', '##ta', '’', 'farmer', 'needs', 'aspirations', 'welfare', 'highest', 'priority', 'country', 'progresses', 'progress', 'four', 'require', 'receive', 'government', 'support', 'quest', 'better', 'lives', 'empowerment', 'well', '##bei', '##ng', 'drive', 'country', 'forward', 'ga', '##ri', '##b', 'ka', '##ly', '##an', 'des', '##h', 'ka', 'ka', '##ly', '##an', 'believe', 'em', '##powering', 'poor', 'earlier', 'approach', 'tack', '##ling', 'poverty', 'en', '##ti', '##tlement', '##s', 'resulted', 'modest', 'outcomes', 'poor', 'become', 'empowered', 'partners', 'development', 'process', 'government', '’', 'power', 'assist', 'also', 'increases', 'manifold', 'pursuit', '‘', 'sa', '##b', '##ka', 'ka', 'sa', '##ath', '’', 'years', 'government', 'assisted', 'crore', 'people', 'get', 'freedom', 'multi', '##dim', '##ens', '##ional', 'poverty', 'government', '’', 'efforts', 'getting', 'syn', '##er', '##gi', '##zed', 'energy', 'passion', 'empowered', 'people', 'truly', 'el', '##eva', '##ting', 'poverty', '‘', 'direct', 'benefit', 'transfer', '’', 'la', '##kh', 'crore', 'government', 'using', 'pm', '##jan', 'dh', '##an', 'accounts', 'led', 'savings', 'la', '##kh', 'crore', 'government', 'realized', 'avoidance', 'leak', '##ages', 'prevalent', 'earlier', 'savings', 'helped', 'providing', 'funds', '‘', 'ga', '##ri', '##b', 'ka', '##ly', '##an', '’', 'pm', '##s', '##vani', '##dhi', 'provided', 'credit', 'assistance', 'la', '##kh', 'street', 'vendors', 'total', 'la', '##kh', 'received', 'credit', 'third', 'time', 'pm', '##jan', '##man', 'yo', '##jana', 'reaches', 'particularly', 'vulnerable', 'tribal', 'groups', 'remained', 'outside', 'realm', 'development', 'far', 'pm', '##vish', '##wa', '##kar', '##ma', 'yo', '##jana', 'provides', 'end', '##to', '##end', 'support', 'artisans', 'crafts', '##pe', '##ople', 'engaged', 'trades', 'schemes', 'empowerment', 'di', '##vy', '##ang', '##s', 'transgender', 'persons', 'reflect', 'firm', 'resolve', 'government', 'leave', 'one', 'behind', 'welfare', 'anna', '##da', '##ta', 'farmers', '‘', 'anna', '##da', '##ta', '’', 'every', 'year', 'pm', '##kis', '##an', 'sam', '##man', 'yo', '##jana', 'direct', 'financial', 'assistance', 'provided', 'crore', 'farmers', 'including', 'marginal', 'small', 'farmers', 'crop', 'insurance', 'given', 'crore', 'farmers', 'pm', 'fa', '##sal', 'bi', '##ma', 'yo', '##jana', 'besides', 'several', 'programmes', 'assisting', '‘', 'anna', '##da', '##ta', '’', 'producing', 'food', 'country', 'world', 'electronic', 'national', 'agriculture', 'market', 'integrated', 'man', '##dis', 'providing', 'services', 'crore', 'farmers', 'trading', 'volume', 'la', '##kh', 'crore', 'sector', 'poised', 'inclusive', 'balanced', 'higher', 'growth', 'productivity', 'facilitated', 'farmer', '##centric', 'policies', 'income', 'support', 'coverage', 'risks', 'price', 'insurance', 'support', 'promotion', 'technologies', 'innovations', 'startup', '##s', 'em', '##powering', 'am', '##rit', 'pee', '##dhi', 'yu', '##va', 'prosperity', 'depends', 'adequately', 'e', '##qui', '##pping', 'em', '##powering', 'youth', 'national', 'education', 'policy', 'usher', '##ing', 'transformation', '##al', 'reforms', 'pm', 'schools', 'rising', 'india', 'pm', 'shri', 'delivering', 'quality', 'teaching', 'nur', '##turing', 'ho', '##listic', 'well', '##rou', '##nded', 'individuals', 'skill', 'india', 'mission', 'trained', 'crore', 'youth', 'ups', '##kill', '##ed', 'res', '##kill', '##ed', 'la', '##kh', 'youth', 'established', 'new', 'it', '##is', 'large', 'number', 'new', 'institutions', 'higher', 'learning', 'namely', 'ii', '##ts', 'iii', '##ts', 'ii', '##ms', 'ai', '##im', '##s', 'universities', 'set', 'pm', 'mud', '##ra', 'yo', '##jana', 'sanctioned', 'crore', 'loans', 'ag', '##gre', '##gating', 'la', '##kh', 'crore', 'entrepreneur', '##ial', 'aspirations', 'youth', 'besides', 'fund', 'funds', 'start', 'india', 'start', 'credit', 'guarantee', 'schemes', 'assisting', 'youth', 'also', 'becoming', '‘', 'ro', '##z', '##gard', '##ata', '’', 'country', 'proud', 'youth', 'scaling', 'new', 'heights', 'sports', 'highest', 'ever', 'medal', 'tally', 'asian', 'games', 'asian', 'para', 'games', 'reflects', 'high', 'confidence', 'level', 'chess', 'prodigy', 'number', '##one', 'ranked', 'player', 'pr', '##ag', '##gnan', '##and', '##ha', '##a', 'put', 'stiff', 'fight', 'reigning', 'world', 'champion', 'magnus', 'carl', '##sson', 'today', 'india', 'chess', 'grandmaster', '##s', 'compared', 'little', 'momentum', 'na', '##ri', 'sha', '##kti', 'empowerment', 'women', 'entrepreneurship', 'ease', 'living', 'dignity', 'gained', 'momentum', 'ten', 'years', 'thirty', 'crore', 'mud', '##ra', 'yo', '##jana', 'loans', 'given', 'women', 'entrepreneurs', 'female', 'en', '##rol', '##ment', 'higher', 'education', 'gone', 'twenty', '##ei', '##ght', 'per', 'cent', 'ten', 'years', 'stem', 'courses', 'girls', 'women', 'constitute', 'forty', '##th', '##ree', 'per', 'cent', 'en', '##rol', '##ment', 'one', 'highest', 'world', 'measures', 'getting', 'reflected', 'increasing', 'participation', 'women', 'workforce', 'making', '‘', 'triple', 'tal', '##aq', '’', 'illegal', 'reservation', 'one', '##thi', '##rd', 'seats', 'women', 'lok', 'sabha', 'state', 'legislative', 'assemblies', 'giving', 'seventy', 'per', 'cent', 'houses', 'pm', 'aw', '##as', 'yo', '##jana', 'rural', 'areas', 'women', 'sole', 'joint', 'owners', 'enhanced', 'dignity', 'exemplary', 'track', 'record', 'governance', 'development', 'performance', 'gdp', 'besides', 'delivering', 'high', 'growth', 'terms', 'gross', 'domestic', 'product', 'government', 'equally', 'focused', 'comprehensive', '‘', 'gdp', '’', 'ie', '’', 'governance', 'development', 'performance', '’', 'government', 'provided', 'transparent', 'accountable', 'people', '##centric', 'prompt', 'trust', '##base', '##d', 'administration', '‘', 'citizen', '##fi', '##rst', '’', '‘', 'minimum', 'government', 'maximum', 'governance', '’', 'approach', 'impact', 'all', '##rou', '##nd', 'development', 'disc', '##ern', '##ible', 'sectors', 'macro', '##economic', 'stability', 'including', 'external', 'sector', 'investments', 'robust', 'economy', 'well', 'people', 'living', 'better', 'earning', 'better', 'even', 'greater', 'aspirations', 'future', 'average', 'real', 'income', 'people', 'increased', 'fifty', 'per', 'cent', 'inflation', 'moderate', 'people', 'getting', 'empowered', 'equipped', 'enabled', 'pursue', 'aspirations', 'effective', 'timely', 'delivery', 'programmes', 'large', 'projects', 'economic', 'management', 'multi', '##pro', '##nged', 'economic', 'management', 'past', 'ten', 'years', 'complement', '##ed', 'people', '##centric', 'inclusive', 'development', 'following', 'major', 'elements', 'forms', 'infrastructure', 'physical', 'digital', 'social', 'built', 'record', 'time', 'parts', 'country', 'becoming', 'active', 'participants', 'economic', 'growth', 'digital', 'public', 'infrastructure', 'new', '‘', 'factor', 'production', '’', 'st', 'century', 'instrumental', 'formal', '##ization', 'economy', 'goods', 'services', 'tax', 'enabled', '‘', 'one', 'nation', 'one', 'market', 'one', 'tax', '’', 'tax', 'reforms', 'led', 'deep', '##ening', 'widening', 'tax', 'base', 'strengthening', 'financial', 'sector', 'helped', 'making', 'savings', 'credit', 'investments', 'efficient', 'gift', 'if', '##sc', 'unified', 'regulatory', 'authority', 'if', '##sca', 'creating', 'robust', 'gateway', 'global', 'capital', 'financial', 'services', 'economy', 'pro', '##active', 'inflation', 'management', 'helped', 'keep', 'inflation', 'within', 'policy', 'band', 'global', 'context', 'geo', '##pol', '##itical', '##ly', 'global', 'affairs', 'becoming', 'complex', 'challenging', 'wars', 'conflicts', 'globalization', 'red', '##efined', 'res', '##hor', '##ing', 'friends', '##hor', '##ing', 'disruption', 'fragmentation', 'supply', 'chains', 'competition', 'critical', 'minerals', 'technologies', 'new', 'world', 'order', 'emerging', 'co', '##vid', 'pan', '##de', '##mic', 'india', 'assumed', 'g', 'presidency', 'difficult', 'times', 'world', 'global', 'economy', 'going', 'high', 'inflation', 'high', 'interest', 'rates', 'low', 'growth', 'high', 'public', 'debt', 'low', 'trade', 'growth', 'climate', 'challenges', 'pan', '##de', '##mic', 'led', 'crisis', 'food', 'fe', '##rti', '##lizer', 'fuel', 'finances', 'world', 'india', 'successfully', 'navigate', '##d', 'way', 'country', 'showed', 'way', 'forward', 'built', 'consensus', 'solutions', 'global', 'problems', 'recently', 'announced', 'india', '##mi', '##ddle', 'east', '##eur', '##ope', 'economic', 'corridor', 'strategic', 'economic', 'game', 'change', '##r', 'india', 'others', 'words', 'hon', '’', 'b', '##le', 'prime', 'minister', 'corridor', '“', 'become', 'basis', 'world', 'trade', 'hundreds', 'years', 'come', 'history', 'remember', 'corridor', 'initiated', 'indian', 'soil', '”', 'vision', '‘', 'vi', '##ks', '##it', 'b', '##harat', '’', 'vision', '‘', 'vi', '##ks', '##it', 'b', '##harat', '’', '“', 'prosperous', 'b', '##harat', 'harmony', 'nature', 'modern', 'infrastructure', 'providing', 'opportunities', 'citizens', 'regions', 'reach', 'potential', '”', 'confidence', 'arising', 'strong', 'exemplary', 'track', '##re', '##cor', '##d', 'performance', 'progress', 'earning', '‘', 'sa', '##b', '##ka', 'vis', '##hwa', '##s', '’', 'next', 'five', 'years', 'years', 'unprecedented', 'development', 'golden', 'moments', 'realize', 'dream', 'developed', 'india', 'trinity', 'demo', '##graphy', 'democracy', 'diversity', 'backed', '‘', 'sa', '##b', '##ka', 'pray', '##as', '’', 'potential', 'fulfill', 'aspirations', 'every', 'indian', 'hon', '’', 'b', '##le', 'prime', 'minister', 'independence', 'day', 'address', 'nation', 'mentioned', '“', 'dear', '##th', 'opportunities', 'many', 'opportunities', 'want', 'country', 'capable', 'creating', 'opportunities', 'sky', '##s', 'limit', '”', 'strategy', '‘', 'am', '##rit', 'ka', '##al', '’', 'government', 'adopt', 'economic', 'policies', 'foster', 'sustain', 'growth', 'facilitate', 'inclusive', 'sustainable', 'development', 'improve', 'productivity', 'create', 'opportunities', 'help', 'enhance', 'capabilities', 'contribute', 'generation', 'resources', 'power', 'investments', 'fu', '##lf', '##il', 'aspirations', 'guided', 'principle', '‘', 'reform', 'perform', 'transform', '’', 'government', 'take', 'next', 'generation', 'reforms', 'build', 'consensus', 'states', 'stakeholders', 'effective', 'implementation', 'important', 'policy', 'priority', 'government', 'ensure', 'timely', 'adequate', 'finances', 'relevant', 'technologies', 'appropriate', 'training', 'micro', 'small', 'medium', 'enterprises', 'ms', '##me', 'grow', 'also', 'compete', 'globally', 'orient', '##ing', 'regulatory', 'environment', 'facilitate', 'growth', 'important', 'element', 'policy', 'mix', 'align', '##ing', '‘', 'pan', '##cha', '##m', '##rit', '’', 'goals', 'government', 'facilitate', 'sustaining', 'high', 'resource', '##ef', '##fi', '##cie', '##nt', 'economic', 'growth', 'work', 'towards', 'energy', 'security', 'terms', 'availability', 'accessibility', 'afford', '##ability', 'meeting', 'investment', 'needs', 'government', 'prepare', 'financial', 'sector', 'terms', 'size', 'capacity', 'skills', 'regulatory', 'framework', 'as', '##piration', '##al', 'districts', 'programme', 'government', 'stands', 'ready', 'assist', 'states', 'faster', 'development', 'as', '##piration', '##al', 'districts', 'blocks', 'including', 'generation', 'ample', 'economic', 'opportunities', 'development', 'east', 'government', 'pay', 'utmost', 'attention', 'make', 'eastern', 'region', 'people', 'powerful', 'driver', 'india', '’', 'growth', 'pm', 'aw', '##as', 'yo', '##jana', 'gram', '##een', 'despite', 'challenges', 'due', 'co', '##vid', 'implementation', 'pm', 'aw', '##as', 'yo', '##jana', 'gram', '##een', 'continued', 'close', 'achieving', 'target', 'three', 'crore', 'houses', 'two', 'crore', 'houses', 'taken', 'next', 'five', 'years', 'meet', 'requirement', 'arising', 'increase', 'number', 'families', 'rooftop', 'solar', '##ization', 'mu', '##ft', 'bi', '##j', '##li', 'rooftop', 'solar', '##ization', 'one', 'crore', 'households', 'enabled', 'obtain', 'units', 'free', 'electricity', 'every', 'month', 'scheme', 'follows', 'resolve', 'hon', '’', 'b', '##le', 'prime', 'minister', 'historic', 'day', 'consecration', 'ram', 'mandir', 'a', '##yo', '##dh', '##ya', 'following', 'benefits', 'expected', 'savings', 'fifteen', 'eighteen', 'thousand', 'ru', '##pee', '##s', 'annually', 'households', 'free', 'solar', 'electricity', 'selling', 'surplus', 'distribution', 'companies', 'charging', 'electric', 'vehicles', 'entrepreneurship', 'opportunities', 'large', 'number', 'vendors', 'supply', 'installation', 'employment', 'opportunities', 'youth', 'technical', 'skills', 'manufacturing', 'installation', 'maintenance', 'housing', 'middle', 'class', 'government', 'launch', 'scheme', 'help', 'des', '##erving', 'sections', 'middle', 'class', '“', 'living', 'rented', 'houses', 'sl', '##ums', 'cha', '##wl', '##s', 'unauthorized', 'colonies', '”', 'buy', 'build', 'houses', 'medical', 'colleges', 'several', 'youth', 'ambitious', 'get', 'qualified', 'doctors', 'aim', 'serve', 'people', 'improved', 'healthcare', 'services', 'government', 'plans', 'set', 'medical', 'colleges', 'utilizing', 'existing', 'hospital', 'infrastructure', 'various', 'departments', 'committee', 'purpose', 'setup', 'examine', 'issues', 'make', 'relevant', 'recommendations', 'cervical', 'cancer', 'va', '##cci', '##nation', 'government', 'encourage', 'va', '##cci', '##nation', 'girls', 'age', 'group', 'years', 'prevention', 'cervical', 'cancer', 'maternal', 'child', 'health', 'care', 'various', 'schemes', 'maternal', 'child', 'care', 'brought', 'one', 'comprehensive', 'programme', 'syn', '##ergy', 'implementation', 'up', '##grad', '##ation', 'ang', '##an', '##wad', '##i', 'centres', '“', 'sa', '##ksha', '##m', 'ang', '##an', '##wad', '##i', 'po', '##shan', '”', 'ex', '##ped', '##ited', 'improved', 'nutrition', 'delivery', 'early', 'childhood', 'care', 'development', 'newly', 'designed', 'u', '##win', 'platform', 'managing', 'im', '##mun', '##ization', 'intensified', 'efforts', 'mission', 'ind', '##rad', '##han', '##ush', 'rolled', 'ex', '##ped', '##iti', '##ously', 'throughout', 'country', 'a', '##yu', '##sh', '##man', 'b', '##harat', 'healthcare', 'cover', 'a', '##yu', '##sh', '##man', 'b', '##harat', 'scheme', 'extended', 'asha', 'workers', 'ang', '##an', '##wad', '##i', 'workers', 'help', '##ers', 'agriculture', 'food', 'processing', 'efforts', 'value', 'addition', 'agricultural', 'sector', 'boost', '##ing', 'farmers', '’', 'income', 'stepped', 'pr', '##ad', '##han', 'man', '##tri', 'ki', '##san', 'sam', '##pad', '##a', 'yo', '##jana', 'benefit', '##ted', 'la', '##kh', 'farmers', 'generated', 'la', '##kh', 'employment', 'pr', '##ad', '##han', 'man', '##tri', 'formal', '##isation', 'micro', 'food', 'processing', 'enterprises', 'yo', '##jana', 'assisted', 'la', '##kh', 'sh', '##gs', 'sixty', 'thousand', 'individuals', 'credit', 'link', '##ages', 'schemes', 'complement', '##ing', 'efforts', 'reducing', 'post', '##har', '##ves', '##t', 'losses', 'improving', 'productivity', 'incomes', 'ensuring', 'faster', 'growth', 'sector', 'government', 'promote', 'private', 'public', 'investment', 'post', '##har', '##ves', '##t', 'activities', 'including', 'aggregation', 'modern', 'storage', 'efficient', 'supply', 'chains', 'primary', 'secondary', 'processing', 'marketing', 'branding', 'nano', 'da', '##p', 'successful', 'adoption', 'nano', 'ur', '##ea', 'application', 'nano', 'da', '##p', 'various', 'crops', 'expanded', 'ag', '##ro', '##cl', '##ima', '##tic', 'zones', 'atm', '##ani', '##rb', '##har', 'oil', 'seeds', 'ab', '##hi', '##yan', 'building', 'initiative', 'announced', 'strategy', 'formulated', 'achieve', '‘', 'atm', '##ani', '##rb', '##hart', '##a', '’', 'oil', 'seeds', 'mustard', 'ground', '##nut', 'sesame', 'soy', '##be', '##an', 'sun', '##flower', 'cover', 'research', 'high', '##yi', '##eld', '##ing', 'varieties', 'widespread', 'adoption', 'modern', 'farming', 'techniques', 'market', 'link', '##ages', 'procurement', 'value', 'addition', 'crop', 'insurance', 'dairy', 'development', 'comprehensive', 'programme', 'supporting', 'dairy', 'farmers', 'formulated', 'efforts', 'already', 'control', 'foot', 'mouth', 'disease', 'india', 'world', '’', 'largest', 'milk', 'producer', 'low', 'productivity', 'mil', '##chan', '##ima', '##ls', 'programme', 'built', 'success', 'existing', 'schemes', 'rash', '##tri', '##ya', 'go', '##ku', '##l', 'mission', 'national', 'livestock', 'mission', 'infrastructure', 'development', 'funds', 'dairy', 'processing', 'animal', 'husband', '##ry', 'mats', '##ya', 'sam', '##pad', '##a', 'government', 'set', 'separate', 'department', 'fisheries', 'realizing', 'importance', 'assisting', 'fishermen', 'resulted', 'doubling', 'inland', 'aqua', '##culture', 'production', 'seafood', 'export', 'since', 'also', 'doubled', 'implementation', 'pr', '##ad', '##han', 'man', '##tri', 'mats', '##ya', 'sam', '##pad', '##a', 'yo', '##jana', 'pm', '##ms', '##y', 'stepped', 'enhance', 'aqua', '##culture', 'productivity', 'existing', 'tons', 'per', 'hectare', 'double', 'exports', 'la', '##kh', 'crore', 'generate', 'la', '##kh', 'employment', 'opportunities', 'near', 'future', 'five', 'integrated', 'aqua', '##park', '##s', 'setup', 'la', '##kh', '##pati', 'did', '##i', 'eighty', '##th', '##ree', 'la', '##kh', 'sh', '##gs', 'nine', 'crore', 'women', 'transforming', 'rural', 'socio', '##economic', 'landscape', 'empowerment', 'self', '##rel', '##iance', 'success', 'assisted', 'nearly', 'one', 'crore', 'women', 'become', 'la', '##kh', '##pati', 'did', '##i', 'already', 'inspiration', 'others', 'achievements', 'recognized', 'honour', '##ing', 'bu', '##oy', '##ed', 'success', 'decided', 'enhance', 'target', 'la', '##kh', '##pati', 'did', '##i', 'crore', 'crore', 'technological', 'changes', 'new', 'age', 'technologies', 'data', 'changing', 'lives', 'people', 'businesses', 'also', 'enabling', 'new', 'economic', 'opportunities', 'facilitating', 'provision', 'high', '##qual', '##ity', 'services', 'affordable', 'prices', 'including', '‘', 'bottom', 'pyramid', '’', 'opportunities', 'india', 'global', 'level', 'expanding', 'india', 'showing', 'solutions', 'innovation', 'entrepreneurship', 'people', 'research', 'innovation', 'cat', '##aly', '##zing', 'growth', 'employment', 'development', 'prime', 'minister', 'sha', '##st', '##ri', 'gave', 'slogan', '“', 'jai', 'jaw', '##an', 'jai', 'ki', '##san', '”', 'prime', 'minister', 'va', '##j', '##pa', '##ye', '##e', 'made', '“', 'jai', 'jaw', '##an', 'jai', 'ki', '##san', 'jai', 'vi', '##gy', '##an', '”', 'prime', 'minister', 'mod', '##i', 'further', '##ed', '“', 'jai', 'jaw', '##an', 'jai', 'ki', '##san', 'jai', 'vi', '##gy', '##an', 'jai', 'an', '##usa', '##nd', '##han', '”', 'innovation', 'foundation', 'development', 'tech', 'sa', '##v', '##vy', 'youth', 'golden', 'era', 'corpus', 'ru', '##pee', '##s', 'one', 'la', '##kh', 'crore', 'established', 'fifty', '##year', 'interest', 'free', 'loan', 'corpus', 'provide', 'long', '##ter', '##m', 'financing', 'ref', '##ina', '##nc', '##ing', 'long', 'tenor', '##s', 'low', 'ni', '##l', 'interest', 'rates', 'encourage', 'private', 'sector', 'scale', 'research', 'innovation', 'significantly', 'sunrise', 'domains', 'need', 'programmes', 'combine', 'powers', 'youth', 'technology', 'new', 'scheme', 'launched', 'strengthening', 'deep', '##tech', 'technologies', 'defence', 'purposes', 'ex', '##ped', '##iting', '‘', 'atm', '##ani', '##rb', '##hart', '##a', '’', 'infrastructure', 'development', 'building', 'massive', 'trip', '##ling', 'capital', 'expenditure', 'out', '##lay', 'past', 'years', 'resulting', 'huge', 'multi', '##pl', '##ier', 'impact', 'economic', 'growth', 'employment', 'creation', 'out', '##lay', 'next', 'year', 'increased', 'per', 'cent', 'eleven', 'la', '##kh', 'eleven', 'thousand', 'one', 'hundred', 'eleven', 'crore', 'ru', '##pee', '##s', 'crore', 'would', 'per', 'cent', 'gdp', 'railways', 'three', 'major', 'economic', 'railway', 'corridor', 'programmes', 'implemented', 'energy', 'mineral', 'cement', 'corridors', 'port', 'connectivity', 'corridors', 'high', 'traffic', 'density', 'corridors', 'projects', 'identified', 'pm', 'ga', '##ti', 'sha', '##kti', 'enabling', 'multi', '##mo', '##dal', 'connectivity', 'improve', 'logistics', 'efficiency', 'reduce', 'cost', 'resultant', 'deco', '##nge', '##sti', '##on', 'high', '##tra', '##ffi', '##c', 'corridors', 'also', 'help', 'improving', 'operations', 'passenger', 'trains', 'resulting', 'safety', 'higher', 'travel', 'speed', 'passengers', 'together', 'dedicated', 'freight', 'corridors', 'three', 'economic', 'corridor', 'programmes', 'accelerate', 'gdp', 'growth', 'reduce', 'log', '##istic', 'costs', 'forty', 'thousand', 'normal', 'rail', 'bog', '##ies', 'converted', 'van', '##de', 'b', '##harat', 'standards', 'enhance', 'safety', 'convenience', 'comfort', 'passengers', 'aviation', 'sector', 'aviation', 'sector', 'gal', '##vani', '##zed', 'past', 'ten', 'years', 'number', 'airports', 'doubled', 'roll', 'air', 'connectivity', 'tier', '##t', '##wo', 'tier', '##th', '##ree', 'cities', 'ud', '##an', 'scheme', 'widespread', 'five', 'hundred', 'seventeen', 'new', 'routes', 'carrying', 'crore', 'passengers', 'indian', 'carriers', 'pro', '##active', '##ly', 'placed', 'orders', 'new', 'aircraft', '##s', 'expansion', 'existing', 'airports', 'development', 'new', 'airports', 'continue', 'ex', '##ped', '##iti', '##ously', 'metro', 'nam', '##o', 'b', '##harat', 'fast', '##ex', '##pan', '##ding', 'middle', 'class', 'rapid', 'urban', '##ization', 'taking', 'place', 'metro', 'rail', 'nam', '##o', 'b', '##harat', 'catalyst', 'required', 'urban', 'transformation', 'expansion', 'systems', 'supported', 'large', 'cities', 'focusing', 'transit', '##ori', '##ented', 'development', 'green', 'energy', 'towards', 'meeting', 'commitment', '‘', 'net', '##zer', '##o', '’', 'following', 'measures', 'taken', 'via', '##bility', 'gap', 'funding', 'provided', 'harness', '##ing', 'offshore', 'wind', 'energy', 'potential', 'initial', 'capacity', 'one', 'gig', '##awa', '##tt', 'coal', 'gas', '##ification', 'li', '##que', '##fa', '##ction', 'capacity', 'mt', 'set', 'also', 'help', 'reducing', 'imports', 'natural', 'gas', 'met', '##han', '##ol', 'ammonia', 'phased', 'mandatory', 'blending', 'compressed', 'bio', '##gas', 'cb', '##g', 'compressed', 'natural', 'gas', 'cn', '##g', 'transport', 'pipe', '##d', 'natural', 'gas', 'p', '##ng', 'domestic', 'purposes', 'mandated', 'financial', 'assistance', 'provided', 'procurement', 'biomass', 'aggregation', 'machinery', 'support', 'collection', 'electric', 'vehicle', 'ecosystem', 'government', 'expand', 'strengthen', 'eve', '##hic', '##le', 'ecosystem', 'supporting', 'manufacturing', 'charging', 'infrastructure', 'greater', 'adoption', 'e', '##bus', '##es', 'public', 'transport', 'networks', 'encouraged', 'payment', 'security', 'mechanism', 'bio', '##man', '##uf', '##act', '##uring', 'bio', '##fo', '##und', '##ry', 'promoting', 'green', 'growth', 'new', 'scheme', 'bio', '##man', '##uf', '##act', '##uring', 'bio', '##fo', '##und', '##ry', 'launched', 'provide', 'environment', 'friendly', 'alternatives', 'bio', '##de', '##grad', '##able', 'polymers', 'bio', '##pl', '##astic', '##s', 'bio', '##pha', '##rma', '##ce', '##uti', '##cal', '##s', 'bio', '##ag', '##ri', '##in', '##put', '##s', 'scheme', 'also', 'help', 'transforming', 'today', '’', 'con', '##sum', '##ptive', 'manufacturing', 'paradigm', 'one', 'based', 'reg', '##ener', '##ative', 'principles', 'blue', 'economy', 'promoting', 'climate', 'res', '##ili', '##ent', 'activities', 'blue', 'economy', 'scheme', 'restoration', 'adaptation', 'measures', 'coastal', 'aqua', '##culture', 'mari', '##culture', 'integrated', 'multi', '##se', '##ctor', '##al', 'approach', 'launched', 'comprehensive', 'development', 'tourist', 'centres', 'success', 'organizing', 'g', 'meetings', 'sixty', 'places', 'presented', 'diversity', 'india', 'global', 'audience', 'economic', 'strength', 'made', 'country', 'attractive', 'destination', 'business', 'conference', 'tourism', 'middle', 'class', 'also', 'as', '##pire', '##s', 'travel', 'explore', 'tourism', 'including', 'spiritual', 'tourism', 'tremendous', 'opportunities', 'local', 'entrepreneurship', 'states', 'encouraged', 'take', 'comprehensive', 'development', 'iconic', 'tourist', 'centres', 'branding', 'marketing', 'global', 'scale', 'framework', 'rating', 'centres', 'based', 'quality', 'facilities', 'services', 'established', 'long', '##ter', '##m', 'interest', 'free', 'loans', 'provided', 'states', 'financing', 'development', 'matching', 'basis', 'address', 'emerging', 'fe', '##r', '##vo', '##ur', 'domestic', 'tourism', 'projects', 'port', 'connectivity', 'tourism', 'infrastructure', 'amenities', 'taken', 'islands', 'including', 'la', '##ksha', '##d', '##wee', '##p', 'help', 'generating', 'employment', 'also', 'promoting', 'investments', 'f', '##di', 'in', '##flow', 'usd', 'billion', 'marking', 'golden', 'era', 'twice', 'in', '##flow', 'encouraging', 'sustained', 'foreign', 'investment', 'negotiating', 'bilateral', 'investment', 'treaties', 'foreign', 'partners', 'spirit', '‘', 'first', 'develop', 'india', '’', 'reforms', 'states', '‘', 'vi', '##ks', '##it', 'b', '##harat', '’', 'many', 'growth', 'development', 'enabling', 'reforms', 'needed', 'states', 'realizing', 'vision', '‘', 'vi', '##ks', '##it', 'b', '##harat', '’', 'provision', 'seventy', '##fi', '##ve', 'thousand', 'crore', 'ru', '##pee', '##s', 'fifty', '##year', 'interest', 'free', 'loan', 'proposed', 'year', 'support', 'milestone', '##link', '##ed', 'reforms', 'state', 'governments', 'societal', 'changes', 'government', 'form', 'high', '##powered', 'committee', 'extensive', 'consideration', 'challenges', 'arising', 'fast', 'population', 'growth', 'demographic', 'changes', 'committee', 'mandated', 'make', 'recommendations', 'addressing', 'challenges', 'comprehensive', '##ly', 'relation', 'goal', '‘', 'vi', '##ks', '##it', 'b', '##harat', '’', 'am', '##rit', 'ka', '##al', 'ka', '##rta', '##vy', '##a', 'ka', '##al', 'government', 'stands', 'committed', 'strengthening', 'expanding', 'economy', 'high', 'growth', 'create', 'conditions', 'people', 'realize', 'aspirations', 'hon', '’', 'b', '##le', 'prime', 'minister', 'independence', 'day', 'address', 'nation', 'th', 'year', 'republic', 'said', '“', 'commit', 'national', 'development', 'new', 'inspiration', '##s', 'new', 'consciousness', 'new', 'resolutions', 'country', 'opens', 'immense', 'possibilities', 'opportunities', '”', '‘', 'ka', '##rta', '##vy', '##a', 'ka', '##al', '’', 'every', 'challenge', 'pre', 'era', 'overcome', 'economic', 'management', 'governance', 'placed', 'country', 'res', '##ol', '##ute', 'path', 'sustained', 'high', 'growth', 'possible', 'right', 'policies', 'true', 'intentions', 'appropriate', 'decisions', 'full', 'budget', 'july', 'government', 'present', 'detailed', 'road', '##ma', '##p', 'pursuit', '‘', 'vi', '##ks', '##it', 'b', '##harat', '’', 'revised', 'estimates', 'revised', 'estimate', 'total', 'receipts', 'borrowing', '##s', 'la', '##kh', 'crore', 'tax', 'receipts', 'la', '##kh', 'crore', 'revised', 'estimate', 'total', 'expenditure', 'la', '##kh', 'crore', 'revenue', 'receipts', 'la', '##kh', 'crore', 'expected', 'higher', 'budget', 'estimate', 'reflecting', 'strong', 'growth', 'momentum', 'formal', '##ization', 'economy', 'revised', 'estimate', 'fiscal', 'deficit', 'per', 'cent', 'gdp', 'improving', 'budget', 'estimate', 'notwithstanding', 'mode', '##ration', 'nominal', 'growth', 'estimates', 'budget', 'estimates', 'coming', 'total', 'receipts', 'borrowing', '##s', 'total', 'expenditure', 'estimated', 'la', '##kh', 'crore', 'respectively', 'tax', 'receipts', 'estimated', 'la', '##kh', 'crore', 'scheme', 'fifty', '##year', 'interest', 'free', 'loan', 'capital', 'expenditure', 'states', 'continued', 'year', 'total', 'out', '##lay', 'la', '##kh', 'crore', 'continue', 'path', 'fiscal', 'consolidation', 'announced', 'budget', 'speech', 'reduce', 'fiscal', 'deficit', 'per', 'cent', 'fiscal', 'deficit', 'estimated', 'per', 'cent', 'gdp', 'ad', '##hering', 'path', 'gross', 'net', 'market', 'borrowing', '##s', 'dated', 'securities', 'estimated', 'la', '##kh', 'crore', 'respectively', 'less', 'private', 'investments', 'happening', 'scale', 'lower', 'borrowing', '##s', 'central', 'government', 'facilitate', 'larger', 'availability', 'credit', 'private', 'sector', 'vote', 'account', 'seeking', '‘', 'vote', 'account', '’', 'approval', 'parliament', 'app', '##ropriation', 'bill', 'part', 'financial', 'year', 'move', 'part', 'b', 'part', 'b', 'hon', '’', 'b', '##le', 'speaker', 'sir', 'direct', 'taxes', 'last', 'ten', 'years', 'direct', 'tax', 'collections', 'tre', '##bled', 'return', 'file', '##rs', 'swelled', 'times', 'would', 'like', 'assure', 'taxpayers', 'contributions', 'used', 'wise', '##ly', 'development', 'country', 'welfare', 'people', 'appreciate', 'tax', 'pay', '##ers', 'support', 'government', 'reduced', 'rational', '##ized', 'tax', 'rates', 'new', 'tax', 'scheme', 'tax', 'liability', 'tax', 'pay', '##ers', 'income', '₹', 'la', '##kh', '₹', 'la', '##kh', 'financial', 'year', 'threshold', 'pre', '##sum', '##ptive', 'taxation', 'retail', 'businesses', 'increased', '₹', 'crore', '₹', 'crore', 'similarly', 'threshold', 'professionals', 'eligible', 'pre', '##sum', '##ptive', 'taxation', 'increased', '₹', 'la', '##kh', '₹', 'la', '##kh', 'also', 'corporate', 'tax', 'rate', 'decreased', 'per', 'cent', 'per', 'cent', 'existing', 'domestic', 'companies', 'per', 'cent', 'certain', 'new', 'manufacturing', 'companies', 'last', 'five', 'years', 'focus', 'improve', 'taxpayer', 'services', 'age', '##old', 'jurisdiction', '##base', '##d', 'assessment', 'system', 'transformed', 'introduction', 'face', '##less', 'assessment', 'appeal', 'thereby', 'imp', '##art', '##ing', 'greater', 'efficiency', 'transparency', 'accountability', 'introduction', 'updated', 'income', 'tax', 'returns', 'new', 'form', 'pre', '##fi', '##lling', 'tax', 'returns', 'made', 'filing', 'tax', 'returns', 'simpler', 'easier', 'average', 'processing', 'time', 'returns', 'reduced', 'days', 'year', 'mere', 'ten', 'days', 'year', 'thereby', 'making', 'ref', '##unds', 'faster', 'indirect', 'taxes', 'un', '##ifying', 'highly', 'fragmented', 'indirect', 'tax', 'regime', 'india', 'gs', '##t', 'reduced', 'compliance', 'burden', 'trade', 'industry', 'industry', 'acknowledged', 'benefits', 'gs', '##t', 'according', 'recent', 'survey', 'conducted', 'leading', 'consulting', 'firm', 'per', 'cent', 'industry', 'leaders', 'view', 'transition', 'gs', '##t', 'largely', 'positive', 'according', 'per', 'cent', 'respondents', 'led', 'supply', 'chain', 'opt', '##imi', '##sation', 'elimination', 'tax', 'ar', '##bit', '##rage', 'oct', '##roi', 'resulted', 'di', '##sb', '##and', '##ing', 'check', 'posts', 'state', 'city', 'boundaries', 'time', 'tax', 'base', 'gs', '##t', 'doubled', 'average', 'monthly', 'gross', 'gs', '##t', 'collection', 'almost', 'doubled', '₹', 'la', '##kh', 'crore', 'year', 'states', 'benefited', 'states', '’', 'sg', '##st', 'revenue', 'including', 'compensation', 'released', 'states', 'post', '##gs', '##t', 'period', 'achieved', 'bu', '##oya', '##ncy', 'contrast', 'tax', 'bu', '##oya', '##ncy', 'state', 'revenues', 'sub', '##sume', '##d', 'taxes', 'pre', '##gs', '##t', 'four', '##year', 'period', 'mere', 'biggest', 'ben', '##ef', '##icia', '##ries', 'consumers', 'reduction', 'logistics', 'costs', 'taxes', 'brought', 'prices', 'goods', 'services', 'taken', 'number', 'steps', 'customs', 'facilitate', 'international', 'trade', 'result', 'import', 'release', 'time', 'declined', 'per', 'cent', 'hours', 'inland', 'container', 'depot', '##s', 'per', 'cent', 'hours', 'air', 'cargo', 'complexes', 'per', 'cent', 'hours', 'sea', 'ports', 'last', 'four', 'years', 'since', 'national', 'time', 'release', 'studies', 'first', 'started', 'tax', 'proposals', 'tax', 'proposals', 'keeping', 'convention', 'propose', 'make', 'changes', 'relating', 'taxation', 'propose', 'retain', 'tax', 'rates', 'direct', 'taxes', 'indirect', 'taxes', 'including', 'import', 'duties', 'however', 'certain', 'tax', 'benefits', 'startup', '##s', 'investments', 'made', 'sovereign', 'wealth', 'pension', 'funds', 'also', 'tax', 'exemption', 'certain', 'income', 'if', '##sc', 'units', 'ex', '##pi', '##ring', 'provide', 'continuity', 'taxation', 'propose', 'extend', 'date', 'moreover', 'line', 'government', '’', 'vision', 'improve', 'ease', 'living', 'ease', 'business', 'wish', 'make', 'announcement', 'improve', 'tax', 'pay', '##er', 'services', 'large', 'number', 'petty', 'non', '##ver', '##ified', 'non', '##re', '##con', '##ci', '##led', 'disputed', 'direct', 'tax', 'demands', 'many', 'dating', 'far', 'back', 'year', 'continue', 'remain', 'books', 'causing', 'anxiety', 'honest', 'tax', 'pay', '##ers', 'hind', '##ering', 'ref', '##unds', 'subsequent', 'years', 'propose', 'withdraw', 'outstanding', 'direct', 'tax', 'demands', 'twenty', '##fi', '##ve', 'thousand', 'ru', '##pee', '##s', '₹', 'pertaining', 'period', 'financial', 'year', 'tenth', '##ous', '##and', 'ru', '##pee', '##s', '₹', 'financial', 'years', 'expected', 'benefit', 'crore', 'taxpayers', 'economy', '–', 'government', 'assumed', 'reins', 'responsibility', 'men', '##d', 'economy', 'step', 'step', 'put', 'governance', 'systems', 'order', 'enormous', 'need', 'hour', 'give', 'hope', 'people', 'attract', 'investments', 'build', 'support', 'much', '##nee', '##ded', 'reforms', 'government', 'successfully', 'following', 'strong', 'belief', '‘', 'nation', '##fi', '##rst', '’', 'crisis', 'years', 'overcome', 'economy', 'put', 'firmly', 'high', 'sustainable', 'growth', 'path', 'all', '##rou', '##nd', 'development', 'appropriate', 'look', 'till', 'purpose', 'drawing', 'lessons', 'mis', '##mana', '##gement', 'years', 'government', 'lay', 'white', 'paper', 'table', 'house', 'exemplary', 'track', 'record', 'governance', 'development', 'performance', 'effective', 'delivery', '‘', 'jan', 'ka', '##ly', '##an', '’', 'given', 'government', 'trust', 'confidence', 'blessings', 'people', 'realize', 'whatever', 'takes', 'goal', '‘', 'vi', '##ks', '##it', 'b', '##harat', '’', 'good', 'intentions', 'true', 'dedication', 'hard', 'work', 'coming', 'years', 'decades', 'com', '##men', '##d', 'interim', 'budget', 'august', 'house', 'jai', 'hind']\n"
          ]
        }
      ]
    },
    {
      "cell_type": "markdown",
      "source": [
        "**INFORMATION EXTRECTION**"
      ],
      "metadata": {
        "id": "5m4lmqGBLUp2"
      }
    },
    {
      "cell_type": "code",
      "source": [
        "from transformers import pipeline\n",
        "\n",
        "# Initialize the summarizer\n",
        "summarizer = pipeline(\"summarization\", model=\"t5-base\")\n",
        "\n",
        "# Define the text\n",
        "text = a\n",
        "\n",
        "# Generate the summary\n",
        "summary = summarizer(text, max_length=500, min_length=100, do_sample=False)\n",
        "\n",
        "print(summary[0]['summary_text'])\n"
      ],
      "metadata": {
        "colab": {
          "base_uri": "https://localhost:8080/"
        },
        "id": "XYwURVjmLbX8",
        "outputId": "cd2d9cb7-2ded-4ee8-da33-016c999a510c"
      },
      "execution_count": null,
      "outputs": [
        {
          "output_type": "stream",
          "name": "stderr",
          "text": [
            "/usr/local/lib/python3.10/dist-packages/transformers/models/t5/tokenization_t5_fast.py:160: FutureWarning: This tokenizer was incorrectly instantiated with a model max length of 512 which will be corrected in Transformers v5.\n",
            "For now, this behavior is kept to avoid breaking backwards compatibility when padding/encoding with `truncation is True`.\n",
            "- Be aware that you SHOULD NOT rely on t5-base automatically truncating your input to 512 when padding/encoding.\n",
            "- If you want to encode/pad to sequences longer than 512 you can either instantiate this tokenizer with `model_max_length` or pass `max_length` when encoding/padding.\n",
            "- To avoid this warning, please instantiate this tokenizer with `model_max_length` set to your preferred value.\n",
            "  warnings.warn(\n",
            "Token indices sequence length is longer than the specified maximum sequence length for this model (7395 > 512). Running this sequence through the model will result in indexing errors\n"
          ]
        },
        {
          "output_type": "stream",
          "name": "stdout",
          "text": [
            "the government is committed to a 'whole-of-the-nation' approach to development . it has been a long time since the government took over the reins in 2014 . despite the challenges of the pandemic, the country is on a path of high growth . the government has a strong track record of delivering on its promises . but it has also failed to deliver on its promise of a sustainable future . this year, the budget is expected to be revised to reflect this .\n"
          ]
        }
      ]
    },
    {
      "cell_type": "code",
      "source": [
        "summary"
      ],
      "metadata": {
        "colab": {
          "base_uri": "https://localhost:8080/"
        },
        "id": "hMae6c9xGFm3",
        "outputId": "995511ba-07db-47cc-bc00-f57b7094fbb9"
      },
      "execution_count": null,
      "outputs": [
        {
          "output_type": "execute_result",
          "data": {
            "text/plain": [
              "[{'summary_text': \"the government is committed to a 'whole-of-the-nation' approach to development . it has been a long time since the government took over the reins in 2014 . despite the challenges of the pandemic, the country is on a path of high growth . the government has a strong track record of delivering on its promises . but it has also failed to deliver on its promise of a sustainable future . this year, the budget is expected to be revised to reflect this .\"}]"
            ]
          },
          "metadata": {},
          "execution_count": 12
        }
      ]
    },
    {
      "cell_type": "code",
      "source": [
        "from transformers import DistilBertTokenizer, DistilBertForTokenClassification\n",
        "\n",
        "# Load pre-trained model and tokenizer\n",
        "model = DistilBertForTokenClassification.from_pretrained('distilbert-base-uncased')\n",
        "tokenizer = DistilBertTokenizer.from_pretrained('distilbert-base-uncased')\n",
        "\n",
        "# Your text to extract information from\n",
        "text = \"\"\"the government is committed to a 'whole-of-the-nation' approach to development . it has been a long time since the government took over the reins in 2014 . despite the challenges of the pandemic, the country is on a path of high growth . the government has a strong track record of delivering on its promises . but it has also failed to deliver on its promise of a sustainable future . this year, the budget is expected to be revised to reflect this .\"\"\"  # Replace this with your actual text\n",
        "\n",
        "# Tokenize text and process in smaller chunks\n",
        "tokens = tokenizer.tokenize(text)\n",
        "chunk_size = 256  # Adjust this to a size that fits in your memory\n",
        "for i in range(0, len(tokens), chunk_size):\n",
        "    chunk = tokens[i:i+chunk_size]\n",
        "    inputs = tokenizer(chunk, return_tensors='pt', padding='max_length', max_length=chunk_size, truncation=True)\n",
        "\n",
        "    # Predict token labels\n",
        "    outputs = model(**inputs)\n",
        "    predictions = outputs.logits.argmax(dim=-1)\n",
        "\n",
        "    # Print predicted token labels\n",
        "    for token, prediction in zip(inputs['input_ids'][0], predictions[0]):\n",
        "        print(f\"{tokenizer.decode([token])}: {model.config.id2label[prediction.item()]}\")\n"
      ],
      "metadata": {
        "colab": {
          "base_uri": "https://localhost:8080/"
        },
        "id": "OAqXE7kCRsAA",
        "outputId": "e779a2fa-21cf-4103-f262-8a25df2b13d5"
      },
      "execution_count": null,
      "outputs": [
        {
          "output_type": "stream",
          "name": "stderr",
          "text": [
            "Some weights of DistilBertForTokenClassification were not initialized from the model checkpoint at distilbert-base-uncased and are newly initialized: ['classifier.bias', 'classifier.weight']\n",
            "You should probably TRAIN this model on a down-stream task to be able to use it for predictions and inference.\n"
          ]
        },
        {
          "output_type": "stream",
          "name": "stdout",
          "text": [
            "[CLS]: LABEL_1\n",
            "the: LABEL_0\n",
            "[SEP]: LABEL_1\n",
            "[PAD]: LABEL_0\n",
            "[PAD]: LABEL_0\n",
            "[PAD]: LABEL_0\n",
            "[PAD]: LABEL_0\n",
            "[PAD]: LABEL_0\n",
            "[PAD]: LABEL_0\n",
            "[PAD]: LABEL_0\n",
            "[PAD]: LABEL_0\n",
            "[PAD]: LABEL_0\n",
            "[PAD]: LABEL_0\n",
            "[PAD]: LABEL_0\n",
            "[PAD]: LABEL_0\n",
            "[PAD]: LABEL_0\n",
            "[PAD]: LABEL_0\n",
            "[PAD]: LABEL_0\n",
            "[PAD]: LABEL_0\n",
            "[PAD]: LABEL_0\n",
            "[PAD]: LABEL_0\n",
            "[PAD]: LABEL_0\n",
            "[PAD]: LABEL_0\n",
            "[PAD]: LABEL_0\n",
            "[PAD]: LABEL_0\n",
            "[PAD]: LABEL_0\n",
            "[PAD]: LABEL_0\n",
            "[PAD]: LABEL_0\n",
            "[PAD]: LABEL_0\n",
            "[PAD]: LABEL_0\n",
            "[PAD]: LABEL_0\n",
            "[PAD]: LABEL_0\n",
            "[PAD]: LABEL_0\n",
            "[PAD]: LABEL_0\n",
            "[PAD]: LABEL_0\n",
            "[PAD]: LABEL_0\n",
            "[PAD]: LABEL_0\n",
            "[PAD]: LABEL_0\n",
            "[PAD]: LABEL_0\n",
            "[PAD]: LABEL_0\n",
            "[PAD]: LABEL_0\n",
            "[PAD]: LABEL_0\n",
            "[PAD]: LABEL_0\n",
            "[PAD]: LABEL_0\n",
            "[PAD]: LABEL_0\n",
            "[PAD]: LABEL_0\n",
            "[PAD]: LABEL_0\n",
            "[PAD]: LABEL_0\n",
            "[PAD]: LABEL_0\n",
            "[PAD]: LABEL_0\n",
            "[PAD]: LABEL_0\n",
            "[PAD]: LABEL_0\n",
            "[PAD]: LABEL_0\n",
            "[PAD]: LABEL_0\n",
            "[PAD]: LABEL_0\n",
            "[PAD]: LABEL_0\n",
            "[PAD]: LABEL_0\n",
            "[PAD]: LABEL_0\n",
            "[PAD]: LABEL_0\n",
            "[PAD]: LABEL_0\n",
            "[PAD]: LABEL_0\n",
            "[PAD]: LABEL_0\n",
            "[PAD]: LABEL_0\n",
            "[PAD]: LABEL_0\n",
            "[PAD]: LABEL_0\n",
            "[PAD]: LABEL_0\n",
            "[PAD]: LABEL_0\n",
            "[PAD]: LABEL_0\n",
            "[PAD]: LABEL_0\n",
            "[PAD]: LABEL_0\n",
            "[PAD]: LABEL_0\n",
            "[PAD]: LABEL_0\n",
            "[PAD]: LABEL_0\n",
            "[PAD]: LABEL_0\n",
            "[PAD]: LABEL_0\n",
            "[PAD]: LABEL_0\n",
            "[PAD]: LABEL_0\n",
            "[PAD]: LABEL_0\n",
            "[PAD]: LABEL_0\n",
            "[PAD]: LABEL_0\n",
            "[PAD]: LABEL_0\n",
            "[PAD]: LABEL_0\n",
            "[PAD]: LABEL_0\n",
            "[PAD]: LABEL_0\n",
            "[PAD]: LABEL_0\n",
            "[PAD]: LABEL_0\n",
            "[PAD]: LABEL_0\n",
            "[PAD]: LABEL_0\n",
            "[PAD]: LABEL_0\n",
            "[PAD]: LABEL_0\n",
            "[PAD]: LABEL_0\n",
            "[PAD]: LABEL_0\n",
            "[PAD]: LABEL_0\n",
            "[PAD]: LABEL_0\n",
            "[PAD]: LABEL_0\n",
            "[PAD]: LABEL_0\n",
            "[PAD]: LABEL_0\n",
            "[PAD]: LABEL_0\n",
            "[PAD]: LABEL_0\n",
            "[PAD]: LABEL_0\n",
            "[PAD]: LABEL_0\n",
            "[PAD]: LABEL_0\n",
            "[PAD]: LABEL_0\n",
            "[PAD]: LABEL_0\n",
            "[PAD]: LABEL_0\n",
            "[PAD]: LABEL_0\n",
            "[PAD]: LABEL_0\n",
            "[PAD]: LABEL_0\n",
            "[PAD]: LABEL_0\n",
            "[PAD]: LABEL_0\n",
            "[PAD]: LABEL_0\n",
            "[PAD]: LABEL_0\n",
            "[PAD]: LABEL_0\n",
            "[PAD]: LABEL_0\n",
            "[PAD]: LABEL_0\n",
            "[PAD]: LABEL_0\n",
            "[PAD]: LABEL_0\n",
            "[PAD]: LABEL_0\n",
            "[PAD]: LABEL_0\n",
            "[PAD]: LABEL_0\n",
            "[PAD]: LABEL_0\n",
            "[PAD]: LABEL_0\n",
            "[PAD]: LABEL_0\n",
            "[PAD]: LABEL_0\n",
            "[PAD]: LABEL_0\n",
            "[PAD]: LABEL_0\n",
            "[PAD]: LABEL_0\n",
            "[PAD]: LABEL_0\n",
            "[PAD]: LABEL_0\n",
            "[PAD]: LABEL_0\n",
            "[PAD]: LABEL_0\n",
            "[PAD]: LABEL_0\n",
            "[PAD]: LABEL_0\n",
            "[PAD]: LABEL_0\n",
            "[PAD]: LABEL_0\n",
            "[PAD]: LABEL_0\n",
            "[PAD]: LABEL_0\n",
            "[PAD]: LABEL_0\n",
            "[PAD]: LABEL_0\n",
            "[PAD]: LABEL_0\n",
            "[PAD]: LABEL_0\n",
            "[PAD]: LABEL_0\n",
            "[PAD]: LABEL_0\n",
            "[PAD]: LABEL_0\n",
            "[PAD]: LABEL_0\n",
            "[PAD]: LABEL_0\n",
            "[PAD]: LABEL_0\n",
            "[PAD]: LABEL_0\n",
            "[PAD]: LABEL_0\n",
            "[PAD]: LABEL_0\n",
            "[PAD]: LABEL_0\n",
            "[PAD]: LABEL_0\n",
            "[PAD]: LABEL_0\n",
            "[PAD]: LABEL_0\n",
            "[PAD]: LABEL_0\n",
            "[PAD]: LABEL_0\n",
            "[PAD]: LABEL_0\n",
            "[PAD]: LABEL_0\n",
            "[PAD]: LABEL_0\n",
            "[PAD]: LABEL_0\n",
            "[PAD]: LABEL_0\n",
            "[PAD]: LABEL_0\n",
            "[PAD]: LABEL_0\n",
            "[PAD]: LABEL_0\n",
            "[PAD]: LABEL_0\n",
            "[PAD]: LABEL_0\n",
            "[PAD]: LABEL_0\n",
            "[PAD]: LABEL_0\n",
            "[PAD]: LABEL_0\n",
            "[PAD]: LABEL_0\n",
            "[PAD]: LABEL_0\n",
            "[PAD]: LABEL_0\n",
            "[PAD]: LABEL_0\n",
            "[PAD]: LABEL_0\n",
            "[PAD]: LABEL_0\n",
            "[PAD]: LABEL_0\n",
            "[PAD]: LABEL_0\n",
            "[PAD]: LABEL_0\n",
            "[PAD]: LABEL_0\n",
            "[PAD]: LABEL_0\n",
            "[PAD]: LABEL_0\n",
            "[PAD]: LABEL_0\n",
            "[PAD]: LABEL_0\n",
            "[PAD]: LABEL_0\n",
            "[PAD]: LABEL_0\n",
            "[PAD]: LABEL_0\n",
            "[PAD]: LABEL_0\n",
            "[PAD]: LABEL_0\n",
            "[PAD]: LABEL_0\n",
            "[PAD]: LABEL_0\n",
            "[PAD]: LABEL_0\n",
            "[PAD]: LABEL_0\n",
            "[PAD]: LABEL_0\n",
            "[PAD]: LABEL_0\n",
            "[PAD]: LABEL_0\n",
            "[PAD]: LABEL_0\n",
            "[PAD]: LABEL_0\n",
            "[PAD]: LABEL_0\n",
            "[PAD]: LABEL_0\n",
            "[PAD]: LABEL_0\n",
            "[PAD]: LABEL_0\n",
            "[PAD]: LABEL_0\n",
            "[PAD]: LABEL_0\n",
            "[PAD]: LABEL_0\n",
            "[PAD]: LABEL_0\n",
            "[PAD]: LABEL_0\n",
            "[PAD]: LABEL_0\n",
            "[PAD]: LABEL_0\n",
            "[PAD]: LABEL_0\n",
            "[PAD]: LABEL_0\n",
            "[PAD]: LABEL_0\n",
            "[PAD]: LABEL_0\n",
            "[PAD]: LABEL_0\n",
            "[PAD]: LABEL_0\n",
            "[PAD]: LABEL_0\n",
            "[PAD]: LABEL_0\n",
            "[PAD]: LABEL_0\n",
            "[PAD]: LABEL_0\n",
            "[PAD]: LABEL_0\n",
            "[PAD]: LABEL_0\n",
            "[PAD]: LABEL_0\n",
            "[PAD]: LABEL_0\n",
            "[PAD]: LABEL_0\n",
            "[PAD]: LABEL_0\n",
            "[PAD]: LABEL_0\n",
            "[PAD]: LABEL_0\n",
            "[PAD]: LABEL_0\n",
            "[PAD]: LABEL_0\n",
            "[PAD]: LABEL_0\n",
            "[PAD]: LABEL_0\n",
            "[PAD]: LABEL_0\n",
            "[PAD]: LABEL_0\n",
            "[PAD]: LABEL_0\n",
            "[PAD]: LABEL_0\n",
            "[PAD]: LABEL_0\n",
            "[PAD]: LABEL_0\n",
            "[PAD]: LABEL_0\n",
            "[PAD]: LABEL_0\n",
            "[PAD]: LABEL_0\n",
            "[PAD]: LABEL_0\n",
            "[PAD]: LABEL_0\n",
            "[PAD]: LABEL_0\n",
            "[PAD]: LABEL_0\n",
            "[PAD]: LABEL_0\n",
            "[PAD]: LABEL_0\n",
            "[PAD]: LABEL_0\n",
            "[PAD]: LABEL_0\n",
            "[PAD]: LABEL_0\n",
            "[PAD]: LABEL_0\n",
            "[PAD]: LABEL_0\n",
            "[PAD]: LABEL_0\n",
            "[PAD]: LABEL_0\n",
            "[PAD]: LABEL_0\n",
            "[PAD]: LABEL_0\n",
            "[PAD]: LABEL_0\n",
            "[PAD]: LABEL_0\n"
          ]
        }
      ]
    },
    {
      "cell_type": "markdown",
      "source": [
        "**SENTIMENT ANALYSIS**"
      ],
      "metadata": {
        "id": "fuOFWkc-_WKl"
      }
    },
    {
      "cell_type": "code",
      "source": [
        "pip install vaderSentiment"
      ],
      "metadata": {
        "colab": {
          "base_uri": "https://localhost:8080/"
        },
        "id": "9m6nRgrvKFIQ",
        "outputId": "814f825c-3335-49a5-c142-f3a8ac7b59fe"
      },
      "execution_count": null,
      "outputs": [
        {
          "output_type": "stream",
          "name": "stdout",
          "text": [
            "Requirement already satisfied: vaderSentiment in /usr/local/lib/python3.10/dist-packages (3.3.2)\n",
            "Requirement already satisfied: requests in /usr/local/lib/python3.10/dist-packages (from vaderSentiment) (2.31.0)\n",
            "Requirement already satisfied: charset-normalizer<4,>=2 in /usr/local/lib/python3.10/dist-packages (from requests->vaderSentiment) (3.3.2)\n",
            "Requirement already satisfied: idna<4,>=2.5 in /usr/local/lib/python3.10/dist-packages (from requests->vaderSentiment) (3.6)\n",
            "Requirement already satisfied: urllib3<3,>=1.21.1 in /usr/local/lib/python3.10/dist-packages (from requests->vaderSentiment) (2.0.7)\n",
            "Requirement already satisfied: certifi>=2017.4.17 in /usr/local/lib/python3.10/dist-packages (from requests->vaderSentiment) (2024.2.2)\n"
          ]
        }
      ]
    },
    {
      "cell_type": "code",
      "source": [
        "from transformers import pipeline\n",
        "\n",
        "# Initialize the sentiment analysis pipeline\n",
        "nlp = pipeline(\"sentiment-analysis\")\n",
        "\n",
        "# Your text goes here\n",
        "text = a\n",
        "\n",
        "# Analyze the sentiment of the text\n",
        "result = nlp(text)[0]\n",
        "\n",
        "# Interpret the score\n",
        "positive = result['score'] if result['label'] == 'POSITIVE' else 0\n",
        "negative = result['score'] if result['label'] == 'NEGATIVE' else 0\n",
        "\n",
        "# Print the result\n",
        "print(f\"Positive: {positive}\")\n",
        "print(f\"Negative: {negative}\")\n"
      ],
      "metadata": {
        "colab": {
          "base_uri": "https://localhost:8080/"
        },
        "id": "ULbFCzAzFDxo",
        "outputId": "809eaed9-62c3-4870-a57a-e98d45a1d4c7"
      },
      "execution_count": null,
      "outputs": [
        {
          "output_type": "stream",
          "name": "stderr",
          "text": [
            "No model was supplied, defaulted to distilbert-base-uncased-finetuned-sst-2-english and revision af0f99b (https://huggingface.co/distilbert-base-uncased-finetuned-sst-2-english).\n",
            "Using a pipeline without specifying a model name and revision in production is not recommended.\n"
          ]
        },
        {
          "output_type": "stream",
          "name": "stdout",
          "text": [
            "Positive: 0\n",
            "Negative: 0.8978548049926758\n"
          ]
        }
      ]
    },
    {
      "cell_type": "code",
      "source": [],
      "metadata": {
        "id": "uLD1gzutLLwQ"
      },
      "execution_count": null,
      "outputs": []
    }
  ]
}